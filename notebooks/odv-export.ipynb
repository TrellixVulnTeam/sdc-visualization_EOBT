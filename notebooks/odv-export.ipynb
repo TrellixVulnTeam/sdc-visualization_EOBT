{
 "cells": [
  {
   "cell_type": "code",
   "execution_count": 1,
   "metadata": {},
   "outputs": [],
   "source": [
    "import pathlib\n",
    "import io\n",
    "\n",
    "import netCDF4\n",
    "import numpy as np\n",
    "\n",
    "import geojson"
   ]
  },
  {
   "cell_type": "code",
   "execution_count": 2,
   "metadata": {},
   "outputs": [],
   "source": [
    "path = pathlib.Path('~/data/odv/data_from_SDN_2017-11_TS_profiles_non-restricted_med.nc').expanduser()\n",
    "ds = netCDF4.Dataset(path)"
   ]
  },
  {
   "cell_type": "code",
   "execution_count": 3,
   "metadata": {},
   "outputs": [],
   "source": [
    "lat = ds.variables['latitude'][:]\n",
    "lon = ds.variables['longitude'][:]"
   ]
  },
  {
   "cell_type": "code",
   "execution_count": 6,
   "metadata": {},
   "outputs": [],
   "source": [
    "points = np.c_[lon, lat].tolist()\n",
    "pts = geojson.MultiPoint(points)"
   ]
  },
  {
   "cell_type": "code",
   "execution_count": null,
   "metadata": {},
   "outputs": [],
   "source": [
    "with open('geojson.json', 'w') as f:\n",
    "    geojson.dump(pts, f)\n",
    "\n",
    "\n",
    "\n",
    "stream = io.StringIO()\n",
    "geojson.dump(pts, stream)"
   ]
  },
  {
   "cell_type": "code",
   "execution_count": null,
   "metadata": {},
   "outputs": [],
   "source": []
  }
 ],
 "metadata": {
  "kernelspec": {
   "display_name": "Python 3",
   "language": "python",
   "name": "python3"
  },
  "language_info": {
   "codemirror_mode": {
    "name": "ipython",
    "version": 3
   },
   "file_extension": ".py",
   "mimetype": "text/x-python",
   "name": "python",
   "nbconvert_exporter": "python",
   "pygments_lexer": "ipython3",
   "version": "3.6.6"
  }
 },
 "nbformat": 4,
 "nbformat_minor": 2
}
