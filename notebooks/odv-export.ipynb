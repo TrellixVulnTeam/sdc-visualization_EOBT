{
 "cells": [
  {
   "cell_type": "code",
   "execution_count": 25,
   "metadata": {},
   "outputs": [],
   "source": [
    "import pathlib\n",
    "import io\n",
    "import datetime\n",
    "import json\n",
    "\n",
    "import netCDF4\n",
    "import numpy as np\n",
    "import pandas as pd\n",
    "import tqdm\n",
    "\n",
    "import geojson"
   ]
  },
  {
   "cell_type": "code",
   "execution_count": 17,
   "metadata": {},
   "outputs": [],
   "source": [
    "path = pathlib.Path('~/data/odv/data_from_SDN_2017-11_TS_profiles_non-restricted_med.nc').expanduser()\n",
    "ds = netCDF4.Dataset(path)"
   ]
  },
  {
   "cell_type": "code",
   "execution_count": 3,
   "metadata": {},
   "outputs": [],
   "source": [
    "lat = ds.variables['latitude'][:]\n",
    "lon = ds.variables['longitude'][:]"
   ]
  },
  {
   "cell_type": "code",
   "execution_count": 4,
   "metadata": {},
   "outputs": [],
   "source": [
    "points = np.c_[lon, lat].tolist()\n",
    "pts = geojson.MultiPoint(points)"
   ]
  },
  {
   "cell_type": "code",
   "execution_count": 5,
   "metadata": {},
   "outputs": [],
   "source": [
    "with open('geojson.json', 'w') as f:\n",
    "    geojson.dump(pts, f)\n",
    "\n",
    "\n",
    "\n",
    "stream = io.StringIO()\n",
    "geojson.dump(pts, stream)"
   ]
  },
  {
   "cell_type": "code",
   "execution_count": 6,
   "metadata": {},
   "outputs": [
    {
     "name": "stderr",
     "output_type": "stream",
     "text": [
      "/Users/baart_f/.virtualenvs/main/lib/python3.6/site-packages/ipykernel_launcher.py:43: DeprecationWarning: The truth value of an empty array is ambiguous. Returning False, but in future this will result in an error. Use `array.size > 0` to check that an array is not empty.\n"
     ]
    }
   ],
   "source": [
    "\n",
    "def antimeridian_cut(lon):\n",
    "    \"\"\"longitudes > 180 -> -360\"\"\"\n",
    "    return np.mod(np.array(lon) + 180, 360) - 180\n",
    "\n",
    "features = []\n",
    "\n",
    "# slicing in time!\n",
    "for year in range(2000, 2019):\n",
    "    t0 = netCDF4.date2num(\n",
    "        datetime.datetime(year=year, month=1, day=1),\n",
    "        ds.variables['date_time'].units\n",
    "    )\n",
    "    t1 = netCDF4.date2num(\n",
    "        datetime.datetime(year=year + 1, month=1, day=1),\n",
    "        ds.variables['date_time'].units\n",
    "    )\n",
    "\n",
    "    # ensure that our array is always masked\n",
    "    date_time = np.ma.masked_array(\n",
    "        ds.variables['date_time'][:]\n",
    "    )\n",
    "    is_in_date = np.logical_and(\n",
    "        date_time[:] >= t0,\n",
    "        date_time[:] < t1\n",
    "    ).data\n",
    "    if not is_in_date.any():\n",
    "        # no data, skipping\n",
    "        continue\n",
    "    t = np.empty(\n",
    "        len(date_time[is_in_date]),\n",
    "        dtype=type(datetime.datetime.now())\n",
    "    )\n",
    "\n",
    "    # split nans and notnans makes it much faster\n",
    "    dtf = np.where(date_time[is_in_date].mask == False)\n",
    "    dtt = np.where(date_time[is_in_date].mask == True)\n",
    "    t[dtf] = netCDF4.num2date(\n",
    "        date_time[is_in_date][dtf],\n",
    "        ds.variables['date_time'].units\n",
    "    )\n",
    "    # do we have any masked values\n",
    "    if dtt and dtt[0]:\n",
    "        t[dtt] = netCDF4.num2date(\n",
    "            date_time[is_in_date][dtt],\n",
    "            ds.variables['date_time'].units\n",
    "        )\n",
    "\n",
    "    # # TODO: slicing through Depth... Hard with this sort of unstructured netcdf.\n",
    "    # if data['var1'].long_name == \"Depth\":\n",
    "    #     depth = None\n",
    "    # else:\n",
    "    depth = None\n",
    "\n",
    "    if 'lat' in ds.variables:\n",
    "        lat = ds['lat'][is_in_date]\n",
    "    elif 'latitude' in ds.variables:\n",
    "        lat = ds['latitude'][is_in_date]\n",
    "    if 'lon' in ds.variables:\n",
    "        lon = ds['lon'][is_in_date]\n",
    "    elif 'longitude' in ds.variables:\n",
    "        lon = ds['longitude'][is_in_date]\n",
    "\n",
    "\n",
    "    cdi_id = netCDF4.chartostring(ds.variables['metavar4'][is_in_date])\n",
    "\n",
    "    coordinates = np.c_[\n",
    "        antimeridian_cut(lon),\n",
    "        lat\n",
    "    ].tolist()\n",
    "\n",
    "\n",
    "    for i, (coordinate, cdi_id_i) in enumerate(zip(coordinates, cdi_id)):\n",
    "        geometry = geojson.Point(coordinate)\n",
    "        feature = geojson.Feature(\n",
    "            id=i,\n",
    "            geometry=geometry,\n",
    "            properties={\n",
    "                \"cdi_id\": cdi_id_i,\n",
    "                \"year\": year\n",
    "            }\n",
    "        )\n",
    "        features.append(feature)\n",
    "\n",
    "collection = geojson.FeatureCollection(features=features)\n",
    "with open('features.json', 'w') as f:\n",
    "    geojson.dump(collection, f)"
   ]
  },
  {
   "cell_type": "code",
   "execution_count": 31,
   "metadata": {},
   "outputs": [],
   "source": [
    "cdi_id_set = {\n",
    "    feature.properties['cdi_id']\n",
    "    for feature \n",
    "    in collection.features\n",
    "}\n"
   ]
  },
  {
   "cell_type": "code",
   "execution_count": 34,
   "metadata": {},
   "outputs": [
    {
     "data": {
      "text/plain": [
       "(1, 9816)"
      ]
     },
     "execution_count": 34,
     "metadata": {},
     "output_type": "execute_result"
    }
   ],
   "source": []
  },
  {
   "cell_type": "code",
   "execution_count": null,
   "metadata": {},
   "outputs": [
    {
     "name": "stderr",
     "output_type": "stream",
     "text": [
      "\n",
      "  0%|          | 0/71810 [00:00<?, ?it/s]\u001b[A\n",
      "  0%|          | 2/71810 [00:00<1:41:37, 11.78it/s]\u001b[A\n",
      "  0%|          | 4/71810 [00:00<1:36:56, 12.34it/s]\u001b[A\n",
      "  0%|          | 6/71810 [00:00<1:35:22, 12.55it/s]\u001b[A"
     ]
    }
   ],
   "source": [
    "if 'lat' in ds.variables:\n",
    "    station_lat = ds['lat'][:]\n",
    "elif 'latitude' in ds.variables:\n",
    "    station_lat = ds['latitude'][:]\n",
    "if 'lon' in ds.variables:\n",
    "    station_lon = ds['lon'][:]\n",
    "elif 'longitude' in ds.variables:\n",
    "    station_lon = ds['longitude'][:]\n",
    "\n",
    "cdi_ids = netCDF4.chartostring(ds.variables['metavar4'][:])\n",
    "jsons = []\n",
    "for i, cdi_id in enumerate(tqdm.tqdm(list(cdi_id_set))):\n",
    "    \n",
    "    cdi_id = str(cdi_id)\n",
    "\n",
    "\n",
    "    # get the first\n",
    "    idx = cdi_ids == cdi_id\n",
    "    \n",
    "\n",
    "    var_names = [\n",
    "        name\n",
    "        for name, var\n",
    "        in ds.variables.items()\n",
    "        if name.startswith('var') and not '_' in name\n",
    "    ]\n",
    "\n",
    "    # add the variables to the list\n",
    "    variables = {}\n",
    "    for var_name in var_names:\n",
    "        var = ds.variables[var_name]\n",
    "        variables[var.long_name] = np.squeeze(var[idx]).ravel()\n",
    "\n",
    "    # get metadata\n",
    "    date_nums = ds.variables['date_time'][idx] \n",
    "    \n",
    "    date_units = ds.variables['date_time'].units\n",
    "    date = netCDF4.num2date(date_nums.ravel().max(), date_units)\n",
    "    \n",
    "    date_nums_expanded = np.zeros_like(var[idx].filled()) + np.atleast_2d(date_nums).T\n",
    "    dates = netCDF4.num2date(\n",
    "        date_nums_expanded,\n",
    "        date_units\n",
    "    )\n",
    "    \n",
    "    variables['Date'] = [date_i.isoformat() for date_i in list(dates.ravel())]\n",
    "\n",
    "        \n",
    "    df = pd.DataFrame(data=variables, index=np.arange(np.squeeze(var[idx]).ravel().shape[0]))\n",
    "    # get rid of missing data\n",
    "    df = df.dropna(how='all')\n",
    "\n",
    "    records = json.loads(df.to_json(orient='records'))\n",
    "\n",
    "\n",
    "    response = {\n",
    "        \"data\": records,\n",
    "        \"meta\": {\n",
    "            \"date\": date.isoformat(),\n",
    "            \"cdi_id\": cdi_id\n",
    "        }\n",
    "    }\n",
    "    jsons.append(response)\n",
    "    if i > 10:\n",
    "        break"
   ]
  },
  {
   "cell_type": "code",
   "execution_count": null,
   "metadata": {},
   "outputs": [],
   "source": []
  }
 ],
 "metadata": {
  "kernelspec": {
   "display_name": "Python 3",
   "language": "python",
   "name": "python3"
  },
  "language_info": {
   "codemirror_mode": {
    "name": "ipython",
    "version": 3
   },
   "file_extension": ".py",
   "mimetype": "text/x-python",
   "name": "python",
   "nbconvert_exporter": "python",
   "pygments_lexer": "ipython3",
   "version": "3.6.8"
  }
 },
 "nbformat": 4,
 "nbformat_minor": 2
}
