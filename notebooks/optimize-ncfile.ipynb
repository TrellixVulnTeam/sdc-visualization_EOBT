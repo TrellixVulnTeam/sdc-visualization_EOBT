{
 "cells": [
  {
   "cell_type": "code",
   "execution_count": 1,
   "metadata": {},
   "outputs": [],
   "source": [
    "import time\n",
    "\n",
    "import datetime\n",
    "\n",
    "import netCDF4\n",
    "import matplotlib.pyplot as plt\n",
    "\n",
    "%matplotlib inline"
   ]
  },
  {
   "cell_type": "code",
   "execution_count": 2,
   "metadata": {},
   "outputs": [],
   "source": [
    "ds = netCDF4.Dataset('/Users/baart_f/data/odv/data_from_SDN_2017-11_TS_profiles_non-restricted_med.nc', 'a')"
   ]
  },
  {
   "cell_type": "code",
   "execution_count": 3,
   "metadata": {},
   "outputs": [],
   "source": [
    "def compute_date_time_ncattrs(ds):\n",
    "    \"\"\"compute extra netcdf attributes to make the file a bit more optimal\"\"\"\n",
    "    \n",
    "    date_nums = ds.variables['date_time'][:]\n",
    "    date_unit = ds.variables['date_time'].units\n",
    "    \n",
    "    # don't convert all nums to date, that's a bit slow, because here we explicitly use a gregorian calendar\n",
    "    \n",
    "    def is_valid_date(maybe_datetime):\n",
    "        if maybe_datetime.year < 1800:\n",
    "            return False\n",
    "\n",
    "        return True\n",
    "\n",
    "    # not all date times are valid\n",
    "    iter_valid_dates = (\n",
    "        t \n",
    "        for t \n",
    "        in sorted(date_nums) \n",
    "        if is_valid_date(\n",
    "            netCDF4.num2date(t, date_unit)\n",
    "        )\n",
    "    )\n",
    "    \n",
    "    # these are the actual (sorted values)\n",
    "    iter_actual_dates = (\n",
    "        t \n",
    "        for t \n",
    "        in sorted(date_nums) \n",
    "    )\n",
    "\n",
    "    # pick the first\n",
    "    t0_valid = next(iter_valid_dates)\n",
    "    t0_actual = next(iter_actual_dates)\n",
    "    \n",
    "    # assume the last is valid\n",
    "    assert is_valid_date(netCDF4.num2date(date_nums.max(), date_unit))\n",
    "    \n",
    "    ncattrs = {\n",
    "        \"actual_range\": [t0_actual, date_nums.max()],\n",
    "        \"valid_range\": [t0_valid, date_nums.max()]\n",
    "    }\n",
    "    return ncattrs\n"
   ]
  },
  {
   "cell_type": "code",
   "execution_count": 7,
   "metadata": {},
   "outputs": [],
   "source": [
    "ncattrs = compute_date_time_ncattrs(ds)\n",
    "date_time = ds.variables['date_time']\n",
    "date_time.setncatts(ncattrs)\n",
    "ds.sync()\n"
   ]
  },
  {
   "cell_type": "code",
   "execution_count": null,
   "metadata": {},
   "outputs": [],
   "source": []
  },
  {
   "cell_type": "code",
   "execution_count": null,
   "metadata": {},
   "outputs": [],
   "source": []
  }
 ],
 "metadata": {
  "kernelspec": {
   "display_name": "Python 3",
   "language": "python",
   "name": "python3"
  },
  "language_info": {
   "codemirror_mode": {
    "name": "ipython",
    "version": 3
   },
   "file_extension": ".py",
   "mimetype": "text/x-python",
   "name": "python",
   "nbconvert_exporter": "python",
   "pygments_lexer": "ipython3",
   "version": "3.6.8"
  }
 },
 "nbformat": 4,
 "nbformat_minor": 2
}
