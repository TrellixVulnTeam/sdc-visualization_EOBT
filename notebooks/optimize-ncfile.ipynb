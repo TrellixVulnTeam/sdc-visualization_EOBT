{
 "cells": [
  {
   "cell_type": "code",
   "execution_count": 1,
   "metadata": {},
   "outputs": [],
   "source": [
    "import netCDF4\n",
    "import matplotlib.pyplot as plt\n",
    "\n",
    "%matplotlib inline"
   ]
  },
  {
   "cell_type": "code",
   "execution_count": 2,
   "metadata": {},
   "outputs": [],
   "source": [
    "ds = netCDF4.Dataset('/Users/baart_f/data/odv/data_from_SDN_2017-11_TS_profiles_non-restricted_med.nc', 'a')"
   ]
  },
  {
   "cell_type": "code",
   "execution_count": 27,
   "metadata": {},
   "outputs": [
    {
     "data": {
      "text/plain": [
       "array([datetime.datetime(1868, 6, 16, 0, 0),\n",
       "       datetime.datetime(2017, 9, 4, 5, 37, 0, 920)], dtype=object)"
      ]
     },
     "execution_count": 27,
     "metadata": {},
     "output_type": "execute_result"
    }
   ],
   "source": [
    "def compute_t_domain(ds):\n",
    "    date_nums = ds.variables['date_time'][:]\n",
    "    import time\n",
    "\n",
    "    def is_valid_date(maybe_datetime):\n",
    "        if maybe_datetime.year < 1800:\n",
    "            return False\n",
    "\n",
    "        return True\n",
    "\n",
    "\n",
    "    iter_dates = (t for t in sorted(date_nums) if is_valid_date(netCDF4.num2date(t, ds.variables['date_time'].units)))\n",
    "\n",
    "    t0 = next(iter_dates)\n",
    "\n",
    "    times = netCDF4.num2date(\n",
    "        [\n",
    "            t0,\n",
    "            date_nums.max()\n",
    "        ],\n",
    "        ds.variables['date_time'].units\n",
    "    )\n",
    "    return times\n"
   ]
  },
  {
   "cell_type": "code",
   "execution_count": 23,
   "metadata": {},
   "outputs": [
    {
     "data": {
      "text/plain": [
       "-1830385172.0"
      ]
     },
     "execution_count": 23,
     "metadata": {},
     "output_type": "execute_result"
    }
   ],
   "source": [
    "time.mktime((1912, 1, 1, 0, 0, 0, 0, 0, 0))"
   ]
  },
  {
   "cell_type": "code",
   "execution_count": 25,
   "metadata": {},
   "outputs": [
    {
     "data": {
      "text/plain": [
       "datetime.datetime(1958, 5, 21, 8, 0)"
      ]
     },
     "execution_count": 25,
     "metadata": {},
     "output_type": "execute_result"
    }
   ],
   "source": [
    "netCDF4.num2date(T[10000], ds.variables['date_time'].units)"
   ]
  },
  {
   "cell_type": "code",
   "execution_count": 26,
   "metadata": {},
   "outputs": [
    {
     "data": {
      "text/plain": [
       "datetime.datetime(200, 8, 16, 9, 24)"
      ]
     },
     "execution_count": 26,
     "metadata": {},
     "output_type": "execute_result"
    }
   ],
   "source": [
    "import datetime\n",
    "datetime.datetime(200, 8, 16, 9, 24)"
   ]
  },
  {
   "cell_type": "code",
   "execution_count": null,
   "metadata": {},
   "outputs": [],
   "source": []
  }
 ],
 "metadata": {
  "kernelspec": {
   "display_name": "Python 3",
   "language": "python",
   "name": "python3"
  },
  "language_info": {
   "codemirror_mode": {
    "name": "ipython",
    "version": 3
   },
   "file_extension": ".py",
   "mimetype": "text/x-python",
   "name": "python",
   "nbconvert_exporter": "python",
   "pygments_lexer": "ipython3",
   "version": "3.6.8"
  }
 },
 "nbformat": 4,
 "nbformat_minor": 2
}
