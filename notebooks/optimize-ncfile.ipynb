{
 "cells": [
  {
   "cell_type": "code",
   "execution_count": 31,
   "metadata": {},
   "outputs": [],
   "source": [
    "import time\n",
    "\n",
    "import netCDF4\n",
    "import matplotlib.pyplot as plt\n",
    "\n",
    "%matplotlib inline"
   ]
  },
  {
   "cell_type": "code",
   "execution_count": 32,
   "metadata": {},
   "outputs": [],
   "source": [
    "ds = netCDF4.Dataset('/Users/baart_f/data/odv/data_from_SDN_2017-11_TS_profiles_non-restricted_med.nc', 'a')"
   ]
  },
  {
   "cell_type": "code",
   "execution_count": 36,
   "metadata": {},
   "outputs": [],
   "source": [
    "def compute_t_domain(ds):\n",
    "    date_nums = ds.variables['date_time'][:]\n",
    "\n",
    "\n",
    "    def is_valid_date(maybe_datetime):\n",
    "        if maybe_datetime.year < 1800:\n",
    "            return False\n",
    "\n",
    "        return True\n",
    "\n",
    "\n",
    "    iter_dates = (t for t in sorted(date_nums) if is_valid_date(netCDF4.num2date(t, ds.variables['date_time'].units)))\n",
    "\n",
    "    t0 = next(iter_dates)\n",
    "\n",
    "    times = t0, date_nums.max()\n",
    "    return times\n"
   ]
  },
  {
   "cell_type": "code",
   "execution_count": 41,
   "metadata": {},
   "outputs": [],
   "source": [
    "T = compute_t_domain(ds)\n",
    "date_time = ds.variables['date_time']\n",
    "\n",
    "date_time.setncattr('actual_range', T)\n",
    "ds.sync()\n"
   ]
  },
  {
   "cell_type": "code",
   "execution_count": null,
   "metadata": {},
   "outputs": [],
   "source": []
  }
 ],
 "metadata": {
  "kernelspec": {
   "display_name": "Python 3",
   "language": "python",
   "name": "python3"
  },
  "language_info": {
   "codemirror_mode": {
    "name": "ipython",
    "version": 3
   },
   "file_extension": ".py",
   "mimetype": "text/x-python",
   "name": "python",
   "nbconvert_exporter": "python",
   "pygments_lexer": "ipython3",
   "version": "3.6.8"
  }
 },
 "nbformat": 4,
 "nbformat_minor": 2
}
