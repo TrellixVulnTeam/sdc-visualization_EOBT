{
 "cells": [
  {
   "cell_type": "code",
   "execution_count": 2,
   "metadata": {},
   "outputs": [],
   "source": [
    "import netCDF4\n",
    "import pyproj\n",
    "import numpy as np\n",
    "import pandas as pd"
   ]
  },
  {
   "cell_type": "code",
   "execution_count": 3,
   "metadata": {},
   "outputs": [],
   "source": [
    "ds = netCDF4.Dataset(r'C:\\Users\\vries_cy\\OneDrive - Stichting Deltares\\Documents\\My Received Files\\SDN_2015-09_TS_MedSea_QC_done_v2_130ef42_1\\SDN_2015-09_TS_MedSea_QC_done_v2_130ef42_1.nc')"
   ]
  },
  {
   "cell_type": "code",
   "execution_count": 4,
   "metadata": {},
   "outputs": [
    {
     "data": {
      "text/plain": [
       "<class 'netCDF4._netCDF4.Dataset'>\n",
       "root group (NETCDF4 data model, file format HDF5):\n",
       "    Conventions: CF-1.7\n",
       "    comment: ODV NetCDF Export File V2.0\n",
       "    Creator: root@525bb4627be0\n",
       "    CreateTime: 2020-01-16T08:50:44\n",
       "    Software: Web Ocean Data View 5.1.8 - web_server: 14 - 64 bit (Linux)\n",
       "    source: /var/www/html/ODV_Data/SDN_2015-09_TS_MedSea_QC_done_v2.odv\n",
       "    SourceLastModified: 2015-07-21T11:19:34\n",
       "    DataField: Ocean\n",
       "    DataType: Profiles\n",
       "    featureType: profile\n",
       "    dimensions(sizes): N_STATIONS(4608), N_SAMPLES(14175), STRING34(34), STRING23(23)\n",
       "    variables(dimensions): |S1 \u001b[4mmetavar1\u001b[0m(N_STATIONS,STRING23), |S1 \u001b[4mmetavar2\u001b[0m(N_STATIONS,STRING34), |S1 \u001b[4mmetavar3\u001b[0m(N_STATIONS), float32 \u001b[4mlongitude\u001b[0m(N_STATIONS), float32 \u001b[4mlatitude\u001b[0m(N_STATIONS), float64 \u001b[4mdate_time\u001b[0m(N_STATIONS), float32 \u001b[4mvar1\u001b[0m(N_STATIONS,N_SAMPLES), int8 \u001b[4mvar1_qc\u001b[0m(N_STATIONS,N_SAMPLES), float32 \u001b[4mvar2\u001b[0m(N_STATIONS,N_SAMPLES), int8 \u001b[4mvar2_qc\u001b[0m(N_STATIONS,N_SAMPLES), float32 \u001b[4mvar3\u001b[0m(N_STATIONS,N_SAMPLES), int8 \u001b[4mvar3_qc\u001b[0m(N_STATIONS,N_SAMPLES)\n",
       "    groups: "
      ]
     },
     "execution_count": 4,
     "metadata": {},
     "output_type": "execute_result"
    }
   ],
   "source": []
  },
  {
   "cell_type": "code",
   "execution_count": 4,
   "metadata": {},
   "outputs": [],
   "source": [
    "station_lat = ds.variables['latitude'][:]\n",
    "station_lon = ds.variables['longitude'][:]\n",
    "lon_i = 10\n",
    "lat_i = 30\n",
    "lon = np.zeros_like(station_lon) + lon_i\n",
    "lat = np.zeros_like(station_lat) + lat_i"
   ]
  },
  {
   "cell_type": "code",
   "execution_count": 5,
   "metadata": {},
   "outputs": [],
   "source": [
    "wgs84 = pyproj.Geod(ellps='WGS84')\n"
   ]
  },
  {
   "cell_type": "code",
   "execution_count": 6,
   "metadata": {},
   "outputs": [],
   "source": [
    "_, _, distance = wgs84.inv(\n",
    "    lon, lat,\n",
    "    station_lon, station_lat\n",
    ")\n"
   ]
  },
  {
   "cell_type": "code",
   "execution_count": 7,
   "metadata": {},
   "outputs": [
    {
     "data": {
      "text/plain": [
       "2266"
      ]
     },
     "execution_count": 7,
     "metadata": {},
     "output_type": "execute_result"
    }
   ],
   "source": [
    "idx = distance.argmin()\n",
    "idx"
   ]
  },
  {
   "cell_type": "code",
   "execution_count": 8,
   "metadata": {},
   "outputs": [
    {
     "data": {
      "text/plain": [
       "True"
      ]
     },
     "execution_count": 8,
     "metadata": {},
     "output_type": "execute_result"
    }
   ],
   "source": [
    "var = ds.variables['metavar1']\n",
    "var.dtype == 'S1'"
   ]
  },
  {
   "cell_type": "code",
   "execution_count": 13,
   "metadata": {},
   "outputs": [
    {
     "data": {
      "text/plain": [
       "array('1900602_35_A', dtype='<U34')"
      ]
     },
     "execution_count": 13,
     "metadata": {},
     "output_type": "execute_result"
    }
   ],
   "source": [
    "cruise = netCDF4.chartostring(ds.variables['metavar1'][idx])\n",
    "profile = netCDF4.chartostring(ds.variables['metavar2'][idx])\n",
    "type_ = ds.variables['metavar3'][idx]\n",
    "# cdi_id = netCDF4.chartostring(ds.variables['metavar4'][idx])\n",
    "# edmo_code = ds.variables['metavar5'][idx]\n",
    "profile"
   ]
  },
  {
   "cell_type": "code",
   "execution_count": 15,
   "metadata": {},
   "outputs": [],
   "source": [
    "# cdi_ids = netCDF4.chartostring(ds.variables['metavar4'][:])"
   ]
  },
  {
   "cell_type": "code",
   "execution_count": 18,
   "metadata": {},
   "outputs": [],
   "source": [
    "# %%timeit\n",
    "# np.argmax(cdi_ids == 'FS35196900000_90460_H13')"
   ]
  },
  {
   "cell_type": "code",
   "execution_count": 19,
   "metadata": {},
   "outputs": [
    {
     "data": {
      "text/plain": [
       "{'series': '[{\"Depth\":0.0,\"ITS-90 water temperature\":16.8509998322,\"Water body salinity\":38.0719985962},{\"Depth\":15.8850002289,\"ITS-90 water temperature\":16.8439998627,\"Water body salinity\":38.0769996643},{\"Depth\":35.7400016785,\"ITS-90 water temperature\":16.8449993134,\"Water body salinity\":38.0769996643},{\"Depth\":55.591999054,\"ITS-90 water temperature\":16.8409996033,\"Water body salinity\":38.0830001831},{\"Depth\":65.5179977417,\"ITS-90 water temperature\":16.892999649,\"Water body salinity\":38.1759986877},{\"Depth\":75.4430007935,\"ITS-90 water temperature\":17.1100006104,\"Water body salinity\":38.2869987488},{\"Depth\":84.3759994507,\"ITS-90 water temperature\":17.2490005493,\"Water body salinity\":38.3979988098},{\"Depth\":94.3000030518,\"ITS-90 water temperature\":17.281999588,\"Water body salinity\":38.4150009155},{\"Depth\":105.216003418,\"ITS-90 water temperature\":17.1989994049,\"Water body salinity\":38.4119987488},{\"Depth\":115.138999939,\"ITS-90 water temperature\":17.1849994659,\"Water body salinity\":38.4249992371},{\"Depth\":125.06199646,\"ITS-90 water temperature\":17.1119995117,\"Water body salinity\":38.4189987183},{\"Depth\":134.9839935303,\"ITS-90 water temperature\":17.0410003662,\"Water body salinity\":38.4119987488},{\"Depth\":145.8979949951,\"ITS-90 water temperature\":16.8339996338,\"Water body salinity\":38.3880004883},{\"Depth\":154.8269958496,\"ITS-90 water temperature\":16.327999115,\"Water body salinity\":38.3339996338},{\"Depth\":164.7480010986,\"ITS-90 water temperature\":16.0030002594,\"Water body salinity\":38.3209991455},{\"Depth\":174.6679992676,\"ITS-90 water temperature\":15.8409996033,\"Water body salinity\":38.3330001831},{\"Depth\":184.5879974365,\"ITS-90 water temperature\":15.7370004654,\"Water body salinity\":38.3899993896},{\"Depth\":194.5079956055,\"ITS-90 water temperature\":15.5810003281,\"Water body salinity\":38.4570007324},{\"Depth\":204.4270019531,\"ITS-90 water temperature\":15.392999649,\"Water body salinity\":38.5800018311},{\"Depth\":214.3450012207,\"ITS-90 water temperature\":15.3149995804,\"Water body salinity\":38.6329994202},{\"Depth\":224.2630004883,\"ITS-90 water temperature\":15.2279996872,\"Water body salinity\":38.7249984741},{\"Depth\":233.1889953613,\"ITS-90 water temperature\":15.1750001907,\"Water body salinity\":38.7770004272},{\"Depth\":244.0970001221,\"ITS-90 water temperature\":15.138999939,\"Water body salinity\":38.8089981079},{\"Depth\":254.0140075684,\"ITS-90 water temperature\":15.1169996262,\"Water body salinity\":38.8370018005},{\"Depth\":263.9299926758,\"ITS-90 water temperature\":15.0699996948,\"Water body salinity\":38.8650016785},{\"Depth\":273.8460083008,\"ITS-90 water temperature\":15.0279998779,\"Water body salinity\":38.8810005188},{\"Depth\":283.7609863281,\"ITS-90 water temperature\":14.9449996948,\"Water body salinity\":38.8930015564},{\"Depth\":293.674987793,\"ITS-90 water temperature\":14.7749996185,\"Water body salinity\":38.8829994202},{\"Depth\":303.5889892578,\"ITS-90 water temperature\":14.7089996338,\"Water body salinity\":38.8839988708},{\"Depth\":313.5029907227,\"ITS-90 water temperature\":14.6599998474,\"Water body salinity\":38.8870010376},{\"Depth\":323.4159851074,\"ITS-90 water temperature\":14.6009998322,\"Water body salinity\":38.8829994202},{\"Depth\":333.3290100098,\"ITS-90 water temperature\":14.5349998474,\"Water body salinity\":38.8800010681},{\"Depth\":343.2409973145,\"ITS-90 water temperature\":14.4709997177,\"Water body salinity\":38.8699989319},{\"Depth\":353.1530151367,\"ITS-90 water temperature\":14.4610004425,\"Water body salinity\":38.8720016479},{\"Depth\":363.0639953613,\"ITS-90 water temperature\":14.3369998932,\"Water body salinity\":38.8520011902},{\"Depth\":372.9750061035,\"ITS-90 water temperature\":14.2740001678,\"Water body salinity\":38.8409996033},{\"Depth\":382.8850097656,\"ITS-90 water temperature\":14.2670001984,\"Water body salinity\":38.8460006714},{\"Depth\":392.7950134277,\"ITS-90 water temperature\":14.2159996033,\"Water body salinity\":38.8450012207},{\"Depth\":402.7049865723,\"ITS-90 water temperature\":14.0869998932,\"Water body salinity\":38.8219985962},{\"Depth\":412.6130065918,\"ITS-90 water temperature\":14.0089998245,\"Water body salinity\":38.8079986572},{\"Depth\":422.5220031738,\"ITS-90 water temperature\":13.9359998703,\"Water body salinity\":38.7960014343},{\"Depth\":432.4299926758,\"ITS-90 water temperature\":13.904999733,\"Water body salinity\":38.7900009155},{\"Depth\":442.3370056152,\"ITS-90 water temperature\":13.8649997711,\"Water body salinity\":38.7820014954},{\"Depth\":452.2439880371,\"ITS-90 water temperature\":13.8219995499,\"Water body salinity\":38.7739982605},{\"Depth\":462.1510009766,\"ITS-90 water temperature\":13.8140001297,\"Water body salinity\":38.7729988098},{\"Depth\":472.0570068359,\"ITS-90 water temperature\":13.8090000153,\"Water body salinity\":38.7709999084},{\"Depth\":481.9620056152,\"ITS-90 water temperature\":13.8020000458,\"Water body salinity\":38.7700004578},{\"Depth\":491.8670043945,\"ITS-90 water temperature\":13.7779998779,\"Water body salinity\":38.763999939},{\"Depth\":501.7720031738,\"ITS-90 water temperature\":13.75,\"Water body salinity\":38.7589988708},{\"Depth\":511.675994873,\"ITS-90 water temperature\":13.7139997482,\"Water body salinity\":38.7519989014},{\"Depth\":521.5800170898,\"ITS-90 water temperature\":13.6990003586,\"Water body salinity\":38.7490005493},{\"Depth\":530.492980957,\"ITS-90 water temperature\":13.6940002441,\"Water body salinity\":38.7480010986},{\"Depth\":541.3859863281,\"ITS-90 water temperature\":13.6929998398,\"Water body salinity\":38.7470016479},{\"Depth\":551.2880249023,\"ITS-90 water temperature\":13.6879997253,\"Water body salinity\":38.7459983826},{\"Depth\":561.1900024414,\"ITS-90 water temperature\":13.6879997253,\"Water body salinity\":38.7459983826},{\"Depth\":571.091003418,\"ITS-90 water temperature\":13.6809997559,\"Water body salinity\":38.7439994812},{\"Depth\":580.9920043945,\"ITS-90 water temperature\":13.6780004501,\"Water body salinity\":38.7430000305},{\"Depth\":590.8920288086,\"ITS-90 water temperature\":13.670999527,\"Water body salinity\":38.7410011292},{\"Depth\":600.7919921875,\"ITS-90 water temperature\":13.6660003662,\"Water body salinity\":38.7400016785},{\"Depth\":610.6909790039,\"ITS-90 water temperature\":13.6639995575,\"Water body salinity\":38.7400016785},{\"Depth\":620.5900268555,\"ITS-90 water temperature\":13.6619997025,\"Water body salinity\":38.7389984131},{\"Depth\":630.4890136719,\"ITS-90 water temperature\":13.6599998474,\"Water body salinity\":38.7379989624},{\"Depth\":640.3870239258,\"ITS-90 water temperature\":13.6560001373,\"Water body salinity\":38.7369995117},{\"Depth\":660.1810302734,\"ITS-90 water temperature\":13.6520004272,\"Water body salinity\":38.7350006104},{\"Depth\":679.9739990234,\"ITS-90 water temperature\":13.6440000534,\"Water body salinity\":38.7340011597},{\"Depth\":695.8070068359,\"ITS-90 water temperature\":13.6470003128,\"Water body salinity\":38.7350006104}]',\n",
       " 'meta': {'date': datetime.datetime(2007, 3, 28, 7, 7, 59, 999998)}}"
      ]
     },
     "execution_count": 19,
     "metadata": {},
     "output_type": "execute_result"
    }
   ],
   "source": [
    "var_names = [\n",
    "    name \n",
    "    for name, var \n",
    "    in ds.variables.items() \n",
    "    if name.startswith('var') and not '_' in name\n",
    "]\n",
    "\n",
    "# add the variables to the list\n",
    "variables = {}\n",
    "for var_name in var_names:\n",
    "    var = ds.variables[var_name]\n",
    "    variables[var.long_name] = var[idx]\n",
    "\n",
    "df = pd.DataFrame(data=variables)\n",
    "# get rid of missing data\n",
    "df = df.dropna(how='all')\n",
    "\n",
    "# get metadata\n",
    "date_nums = ds.variables['date_time'][idx]\n",
    "date_units = ds.variables['date_time'].units\n",
    "date = netCDF4.num2date(date_nums, date_units)\n",
    "records = df.to_json(orient='records')\n",
    "response = {\n",
    "    \"series\": records,\n",
    "    \"meta\": {\n",
    "        \"date\": date\n",
    "    }\n",
    "}\n",
    "response"
   ]
  },
  {
   "cell_type": "code",
   "execution_count": 20,
   "metadata": {},
   "outputs": [
    {
     "data": {
      "text/plain": [
       "(4608, 14175)"
      ]
     },
     "execution_count": 20,
     "metadata": {},
     "output_type": "execute_result"
    }
   ],
   "source": [
    "date_nums.shape\n",
    "ds.variables['var2'].shape"
   ]
  },
  {
   "cell_type": "code",
   "execution_count": 21,
   "metadata": {},
   "outputs": [
    {
     "data": {
      "text/plain": [
       "<class 'netCDF4._netCDF4.Variable'>\n",
       "float32 var1(N_STATIONS, N_SAMPLES)\n",
       "    positive: down\n",
       "    long_name: Depth\n",
       "    units: m\n",
       "    comment: Codes: SDN:P01::ADEPZZ01 SDN:P06::ULAA\n",
       "    ancillary_variables: var1_qc\n",
       "    C_format: %.1f\n",
       "    FORTRAN_format: F12.1\n",
       "    _FillValue: -10000000000.0\n",
       "unlimited dimensions: \n",
       "current shape = (4608, 14175)\n",
       "filling on"
      ]
     },
     "execution_count": 21,
     "metadata": {},
     "output_type": "execute_result"
    }
   ],
   "source": [
    "ds.variables['var1']"
   ]
  },
  {
   "cell_type": "code",
   "execution_count": null,
   "metadata": {},
   "outputs": [],
   "source": []
  },
  {
   "cell_type": "code",
   "execution_count": null,
   "metadata": {},
   "outputs": [],
   "source": []
  }
 ],
 "metadata": {
  "kernelspec": {
   "display_name": "Python 3",
   "language": "python",
   "name": "python3"
  },
  "language_info": {
   "codemirror_mode": {
    "name": "ipython",
    "version": 3
   },
   "file_extension": ".py",
   "mimetype": "text/x-python",
   "name": "python",
   "nbconvert_exporter": "python",
   "pygments_lexer": "ipython3",
   "version": "3.7.3"
  }
 },
 "nbformat": 4,
 "nbformat_minor": 2
}
