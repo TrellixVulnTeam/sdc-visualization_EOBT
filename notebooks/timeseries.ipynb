{
 "cells": [
  {
   "cell_type": "code",
   "execution_count": 30,
   "metadata": {},
   "outputs": [],
   "source": [
    "import netCDF4\n",
    "import pyproj\n",
    "import numpy as np\n",
    "import xarray as xr\n",
    "import pandas as pd\n",
    "\n",
    "import matplotlib.pyplot as plt\n",
    "\n",
    "import tqdm.notebook\n",
    "\n",
    "# xr.set_options(display_style='html')\n"
   ]
  },
  {
   "cell_type": "code",
   "execution_count": 54,
   "metadata": {},
   "outputs": [
    {
     "data": {
      "text/plain": [
       "<class 'netCDF4._netCDF4.Dataset'>\n",
       "root group (NETCDF4 data model, file format HDF5):\n",
       "    Conventions: CF-1.7\n",
       "    comment: ODV NetCDF Export File V2.0\n",
       "    Creator: root@525bb4627be0\n",
       "    CreateTime: 2020-01-16T08:50:44\n",
       "    Software: Web Ocean Data View 5.1.8 - web_server: 14 - 64 bit (Linux)\n",
       "    source: /var/www/html/ODV_Data/SDN_2015-09_TS_MedSea_QC_done_v2.odv\n",
       "    SourceLastModified: 2015-07-21T11:19:34\n",
       "    DataField: Ocean\n",
       "    DataType: Profiles\n",
       "    featureType: profile\n",
       "    dimensions(sizes): N_STATIONS(4608), N_SAMPLES(14175), STRING34(34), STRING23(23)\n",
       "    variables(dimensions): |S1 metavar1(N_STATIONS,STRING23), |S1 metavar2(N_STATIONS,STRING34), |S1 metavar3(N_STATIONS), float32 longitude(N_STATIONS), float32 latitude(N_STATIONS), float64 date_time(N_STATIONS), float32 var1(N_STATIONS,N_SAMPLES), int8 var1_qc(N_STATIONS,N_SAMPLES), float32 var2(N_STATIONS,N_SAMPLES), int8 var2_qc(N_STATIONS,N_SAMPLES), float32 var3(N_STATIONS,N_SAMPLES), int8 var3_qc(N_STATIONS,N_SAMPLES)\n",
       "    groups: "
      ]
     },
     "execution_count": 54,
     "metadata": {},
     "output_type": "execute_result"
    }
   ],
   "source": [
    "ds = netCDF4.Dataset('../data/SDN_2015-09_TS_MedSea_QC_done_v2_130ef42_1.nc')\n",
    "ds"
   ]
  },
  {
   "cell_type": "code",
   "execution_count": 3,
   "metadata": {},
   "outputs": [
    {
     "data": {
      "text/plain": [
       "<class 'netCDF4._netCDF4.Variable'>\n",
       "|S1 metavar2(N_STATIONS, STRING34)\n",
       "    long_name: Station\n",
       "    units: \n",
       "    comment: \n",
       "unlimited dimensions: \n",
       "current shape = (4608, 34)\n",
       "filling on, default _FillValue of \u0000 used"
      ]
     },
     "execution_count": 3,
     "metadata": {},
     "output_type": "execute_result"
    }
   ],
   "source": [
    "ds.variables['metavar2']"
   ]
  },
  {
   "cell_type": "code",
   "execution_count": 4,
   "metadata": {},
   "outputs": [
    {
     "name": "stdout",
     "output_type": "stream",
     "text": [
      "skipping var1\n",
      "skipping var1_qc\n",
      "skipping var2\n",
      "skipping var2_qc\n",
      "skipping var3\n",
      "skipping var3_qc\n"
     ]
    },
    {
     "data": {
      "text/html": [
       "<div>\n",
       "<style scoped>\n",
       "    .dataframe tbody tr th:only-of-type {\n",
       "        vertical-align: middle;\n",
       "    }\n",
       "\n",
       "    .dataframe tbody tr th {\n",
       "        vertical-align: top;\n",
       "    }\n",
       "\n",
       "    .dataframe thead th {\n",
       "        text-align: right;\n",
       "    }\n",
       "</style>\n",
       "<table border=\"1\" class=\"dataframe\">\n",
       "  <thead>\n",
       "    <tr style=\"text-align: right;\">\n",
       "      <th></th>\n",
       "      <th>Cruise</th>\n",
       "      <th>Station</th>\n",
       "      <th>Type</th>\n",
       "      <th>Longitude</th>\n",
       "      <th>Latitude</th>\n",
       "      <th>Decimal Gregorian Days of the station</th>\n",
       "    </tr>\n",
       "  </thead>\n",
       "  <tbody>\n",
       "    <tr>\n",
       "      <th>0</th>\n",
       "      <td>64PE159</td>\n",
       "      <td>59/1_BE</td>\n",
       "      <td>b'C'</td>\n",
       "      <td>19.549999</td>\n",
       "      <td>38.733002</td>\n",
       "      <td>140.524306</td>\n",
       "    </tr>\n",
       "    <tr>\n",
       "      <th>1</th>\n",
       "      <td>64PE159</td>\n",
       "      <td>67/1_BE</td>\n",
       "      <td>b'C'</td>\n",
       "      <td>19.684999</td>\n",
       "      <td>36.875000</td>\n",
       "      <td>141.552083</td>\n",
       "    </tr>\n",
       "    <tr>\n",
       "      <th>2</th>\n",
       "      <td>64PE159</td>\n",
       "      <td>72/1_BE</td>\n",
       "      <td>b'C'</td>\n",
       "      <td>21.645000</td>\n",
       "      <td>35.938999</td>\n",
       "      <td>142.368056</td>\n",
       "    </tr>\n",
       "    <tr>\n",
       "      <th>3</th>\n",
       "      <td>64PE159</td>\n",
       "      <td>81/1_BE</td>\n",
       "      <td>b'C'</td>\n",
       "      <td>21.368999</td>\n",
       "      <td>35.292000</td>\n",
       "      <td>143.670833</td>\n",
       "    </tr>\n",
       "    <tr>\n",
       "      <th>4</th>\n",
       "      <td>64PE159</td>\n",
       "      <td>82/1_BE</td>\n",
       "      <td>b'C'</td>\n",
       "      <td>20.546000</td>\n",
       "      <td>34.820000</td>\n",
       "      <td>144.477083</td>\n",
       "    </tr>\n",
       "    <tr>\n",
       "      <th>...</th>\n",
       "      <td>...</td>\n",
       "      <td>...</td>\n",
       "      <td>...</td>\n",
       "      <td>...</td>\n",
       "      <td>...</td>\n",
       "      <td>...</td>\n",
       "    </tr>\n",
       "    <tr>\n",
       "      <th>4603</th>\n",
       "      <td>TARA_20091122Z</td>\n",
       "      <td>TARA_20091123T1242Z_025_EVENT_CAST</td>\n",
       "      <td>b'C'</td>\n",
       "      <td>19.380699</td>\n",
       "      <td>39.408501</td>\n",
       "      <td>3614.528322</td>\n",
       "    </tr>\n",
       "    <tr>\n",
       "      <th>4604</th>\n",
       "      <td>TARA_20091122Z</td>\n",
       "      <td>TARA_20091123T0916Z_025_EVENT_CAST</td>\n",
       "      <td>b'C'</td>\n",
       "      <td>19.391001</td>\n",
       "      <td>39.387699</td>\n",
       "      <td>3614.384965</td>\n",
       "    </tr>\n",
       "    <tr>\n",
       "      <th>4605</th>\n",
       "      <td>TARA_20091122Z</td>\n",
       "      <td>TARA_20091122Z_UDW_EVENT_CSSS</td>\n",
       "      <td>b'C'</td>\n",
       "      <td>19.106649</td>\n",
       "      <td>40.101780</td>\n",
       "      <td>3613.000000</td>\n",
       "    </tr>\n",
       "    <tr>\n",
       "      <th>4606</th>\n",
       "      <td>TARA_20091122Z</td>\n",
       "      <td>TARA_20091124T1019Z_026_EVENT_CAST</td>\n",
       "      <td>b'C'</td>\n",
       "      <td>20.200300</td>\n",
       "      <td>38.396599</td>\n",
       "      <td>3615.428461</td>\n",
       "    </tr>\n",
       "    <tr>\n",
       "      <th>4607</th>\n",
       "      <td>TARA_20091128Z</td>\n",
       "      <td>TARA_20091128Z_UDW_EVENT_CSSS</td>\n",
       "      <td>b'C'</td>\n",
       "      <td>23.747549</td>\n",
       "      <td>37.590832</td>\n",
       "      <td>3619.000000</td>\n",
       "    </tr>\n",
       "  </tbody>\n",
       "</table>\n",
       "<p>4608 rows × 6 columns</p>\n",
       "</div>"
      ],
      "text/plain": [
       "              Cruise                             Station  Type  Longitude  \\\n",
       "0            64PE159                             59/1_BE  b'C'  19.549999   \n",
       "1            64PE159                             67/1_BE  b'C'  19.684999   \n",
       "2            64PE159                             72/1_BE  b'C'  21.645000   \n",
       "3            64PE159                             81/1_BE  b'C'  21.368999   \n",
       "4            64PE159                             82/1_BE  b'C'  20.546000   \n",
       "...              ...                                 ...   ...        ...   \n",
       "4603  TARA_20091122Z  TARA_20091123T1242Z_025_EVENT_CAST  b'C'  19.380699   \n",
       "4604  TARA_20091122Z  TARA_20091123T0916Z_025_EVENT_CAST  b'C'  19.391001   \n",
       "4605  TARA_20091122Z       TARA_20091122Z_UDW_EVENT_CSSS  b'C'  19.106649   \n",
       "4606  TARA_20091122Z  TARA_20091124T1019Z_026_EVENT_CAST  b'C'  20.200300   \n",
       "4607  TARA_20091128Z       TARA_20091128Z_UDW_EVENT_CSSS  b'C'  23.747549   \n",
       "\n",
       "       Latitude  Decimal Gregorian Days of the station  \n",
       "0     38.733002                             140.524306  \n",
       "1     36.875000                             141.552083  \n",
       "2     35.938999                             142.368056  \n",
       "3     35.292000                             143.670833  \n",
       "4     34.820000                             144.477083  \n",
       "...         ...                                    ...  \n",
       "4603  39.408501                            3614.528322  \n",
       "4604  39.387699                            3614.384965  \n",
       "4605  40.101780                            3613.000000  \n",
       "4606  38.396599                            3615.428461  \n",
       "4607  37.590832                            3619.000000  \n",
       "\n",
       "[4608 rows x 6 columns]"
      ]
     },
     "execution_count": 4,
     "metadata": {},
     "output_type": "execute_result"
    }
   ],
   "source": [
    "vars = {}\n",
    "for name in ds.variables:\n",
    "    var = ds.variables[name]\n",
    "    if var.long_name:\n",
    "        column = var.long_name\n",
    "    else:\n",
    "        column = name\n",
    "\n",
    "    if var.dtype == 'S1' and len(var.dimensions) == 2:\n",
    "        vars[column] = netCDF4.chartostring(var[:])\n",
    "    elif len(var.dimensions) > 1:\n",
    "        print('skipping',  name)\n",
    "        continue\n",
    "    else:\n",
    "        vars[column] = var[:]\n",
    "df = pd.DataFrame(vars)\n",
    "df\n"
   ]
  },
  {
   "cell_type": "code",
   "execution_count": 42,
   "metadata": {},
   "outputs": [
    {
     "data": {
      "text/plain": [
       "<class 'netCDF4._netCDF4.Variable'>\n",
       "float64 date_time(N_STATIONS)\n",
       "    long_name: Decimal Gregorian Days of the station\n",
       "    standard_name: time\n",
       "    units: days since 2000-01-01 00:00:00 UTC\n",
       "    comment: Relative Gregorian Days with decimal part\n",
       "    C_format: %.5f\n",
       "    FORTRAN_format: F12.5\n",
       "    _FillValue: -10000000000.0\n",
       "unlimited dimensions: \n",
       "current shape = (4608,)\n",
       "filling on"
      ]
     },
     "execution_count": 42,
     "metadata": {},
     "output_type": "execute_result"
    }
   ],
   "source": [
    "ds.variables['date_time']\n"
   ]
  },
  {
   "cell_type": "code",
   "execution_count": 32,
   "metadata": {},
   "outputs": [
    {
     "data": {
      "application/vnd.jupyter.widget-view+json": {
       "model_id": "70b418fbbae4478792cacc2eb0ccb7f7",
       "version_major": 2,
       "version_minor": 0
      },
      "text/plain": [
       "HBox(children=(FloatProgress(value=1.0, bar_style='info', max=1.0), HTML(value='')))"
      ]
     },
     "metadata": {},
     "output_type": "display_data"
    },
    {
     "name": "stdout",
     "output_type": "stream",
     "text": [
      "\n"
     ]
    }
   ],
   "source": [
    "dfs = []\n",
    "var_names = ['var1', 'var2', 'var3']\n",
    "arrs  = {}\n",
    "for var_name in var_names:\n",
    "    arrs[var_name] = ds.variables[var_name][:]\n",
    "\n",
    "for (i, row) in tqdm.notebook.tqdm(df.iterrows()):\n",
    "    variables = {\n",
    "        ds.variables[var_name].long_name: arrs[var_name][i, :]\n",
    "        for var_name\n",
    "        in var_names\n",
    "    }\n",
    "    df_i = pd.DataFrame(variables)\n",
    "    # drop  records that are all none\n",
    "    df_i = df_i.dropna(how='all')\n",
    "    #  add records\n",
    "    df_i = df_i.assign(**row)\n",
    "    dfs.append(df_i)\n",
    "long_df = pd.concat(dfs)"
   ]
  },
  {
   "cell_type": "code",
   "execution_count": 65,
   "metadata": {},
   "outputs": [],
   "source": [
    "renames = {\n",
    "    'Depth': 'd', \n",
    "    'ITS-90 water temperature': 'T',\n",
    "    'Water body salinity': 'S', \n",
    "    'Cruise': 'c_id',\n",
    "    'Station': 's_id', \n",
    "    'Type': 'type', \n",
    "    'Longitude': 'lon', \n",
    "    'Latitude': 'lat',\n",
    "    'Decimal Gregorian Days of the station': 't'\n",
    "}\n",
    "long_df = long_df.rename(renames, axis=1)\n",
    "long_df['d'] *= -1\n",
    "long_df.head(n=100000).to_json('../data/med_test.json', orient='split', double_precision=3, index=False)"
   ]
  },
  {
   "cell_type": "code",
   "execution_count": 60,
   "metadata": {},
   "outputs": [],
   "source": [
    "long_df.to_json?"
   ]
  },
  {
   "cell_type": "code",
   "execution_count": 5,
   "metadata": {},
   "outputs": [
    {
     "data": {
      "text/plain": [
       "[<matplotlib.lines.Line2D at 0x11ecd2828>]"
      ]
     },
     "execution_count": 5,
     "metadata": {},
     "output_type": "execute_result"
    },
    {
     "data": {
      "image/png": "[encoded data removed]",
      "text/plain": [
       "<Figure size 936x576 with 2 Axes>"
      ]
     },
     "metadata": {},
     "output_type": "display_data"
    }
   ],
   "source": [
    "selected_B = df[df.Type == b'B']\n",
    "selected_C = df[df.Type == b'C']\n",
    "fig, axes = plt.subplots(figsize=(13, 8), ncols=2)\n",
    "axes[0].plot(selected_B.Longitude, selected_B.Latitude, 'k.')\n",
    "axes[1].plot(selected_C.Longitude, selected_C.Latitude, 'k.')"
   ]
  },
  {
   "cell_type": "code",
   "execution_count": 6,
   "metadata": {},
   "outputs": [
    {
     "data": {
      "text/html": [
       "<div>\n",
       "<style scoped>\n",
       "    .dataframe tbody tr th:only-of-type {\n",
       "        vertical-align: middle;\n",
       "    }\n",
       "\n",
       "    .dataframe tbody tr th {\n",
       "        vertical-align: top;\n",
       "    }\n",
       "\n",
       "    .dataframe thead th {\n",
       "        text-align: right;\n",
       "    }\n",
       "</style>\n",
       "<table border=\"1\" class=\"dataframe\">\n",
       "  <thead>\n",
       "    <tr style=\"text-align: right;\">\n",
       "      <th></th>\n",
       "      <th>Cruise</th>\n",
       "      <th>Station</th>\n",
       "      <th>Type</th>\n",
       "      <th>Longitude</th>\n",
       "      <th>Latitude</th>\n",
       "      <th>Decimal Gregorian Days of the station</th>\n",
       "    </tr>\n",
       "  </thead>\n",
       "  <tbody>\n",
       "    <tr>\n",
       "      <th>735</th>\n",
       "      <td>NCMR07XB</td>\n",
       "      <td>03320</td>\n",
       "      <td>b'B'</td>\n",
       "      <td>23.961330</td>\n",
       "      <td>37.367168</td>\n",
       "      <td>20.838889</td>\n",
       "    </tr>\n",
       "    <tr>\n",
       "      <th>736</th>\n",
       "      <td>NCMR07XB</td>\n",
       "      <td>03330</td>\n",
       "      <td>b'B'</td>\n",
       "      <td>24.178829</td>\n",
       "      <td>37.205830</td>\n",
       "      <td>20.874306</td>\n",
       "    </tr>\n",
       "    <tr>\n",
       "      <th>737</th>\n",
       "      <td>NCMR07XB</td>\n",
       "      <td>03340</td>\n",
       "      <td>b'B'</td>\n",
       "      <td>24.317169</td>\n",
       "      <td>37.099331</td>\n",
       "      <td>20.897222</td>\n",
       "    </tr>\n",
       "    <tr>\n",
       "      <th>738</th>\n",
       "      <td>NCMR07XB</td>\n",
       "      <td>03350</td>\n",
       "      <td>b'B'</td>\n",
       "      <td>24.455170</td>\n",
       "      <td>36.988171</td>\n",
       "      <td>20.920833</td>\n",
       "    </tr>\n",
       "    <tr>\n",
       "      <th>739</th>\n",
       "      <td>NCMR07XB</td>\n",
       "      <td>03360</td>\n",
       "      <td>b'B'</td>\n",
       "      <td>24.682329</td>\n",
       "      <td>36.789829</td>\n",
       "      <td>20.963194</td>\n",
       "    </tr>\n",
       "    <tr>\n",
       "      <th>740</th>\n",
       "      <td>NCMR07XB</td>\n",
       "      <td>03370</td>\n",
       "      <td>b'B'</td>\n",
       "      <td>24.872169</td>\n",
       "      <td>36.598671</td>\n",
       "      <td>20.999306</td>\n",
       "    </tr>\n",
       "    <tr>\n",
       "      <th>741</th>\n",
       "      <td>NCMR07XB</td>\n",
       "      <td>03380</td>\n",
       "      <td>b'B'</td>\n",
       "      <td>25.091330</td>\n",
       "      <td>36.420330</td>\n",
       "      <td>21.038194</td>\n",
       "    </tr>\n",
       "    <tr>\n",
       "      <th>742</th>\n",
       "      <td>NCMR07XB</td>\n",
       "      <td>03400</td>\n",
       "      <td>b'B'</td>\n",
       "      <td>25.290831</td>\n",
       "      <td>36.261829</td>\n",
       "      <td>21.070139</td>\n",
       "    </tr>\n",
       "    <tr>\n",
       "      <th>743</th>\n",
       "      <td>NCMR07XB</td>\n",
       "      <td>03410</td>\n",
       "      <td>b'B'</td>\n",
       "      <td>25.483330</td>\n",
       "      <td>36.099998</td>\n",
       "      <td>21.102083</td>\n",
       "    </tr>\n",
       "    <tr>\n",
       "      <th>744</th>\n",
       "      <td>NCMR07XB</td>\n",
       "      <td>03420</td>\n",
       "      <td>b'B'</td>\n",
       "      <td>25.651670</td>\n",
       "      <td>35.969669</td>\n",
       "      <td>21.133333</td>\n",
       "    </tr>\n",
       "    <tr>\n",
       "      <th>745</th>\n",
       "      <td>NCMR07XB</td>\n",
       "      <td>03440</td>\n",
       "      <td>b'B'</td>\n",
       "      <td>25.994671</td>\n",
       "      <td>35.668671</td>\n",
       "      <td>21.193056</td>\n",
       "    </tr>\n",
       "    <tr>\n",
       "      <th>746</th>\n",
       "      <td>NCMR07XB</td>\n",
       "      <td>03450</td>\n",
       "      <td>b'B'</td>\n",
       "      <td>26.176331</td>\n",
       "      <td>35.530331</td>\n",
       "      <td>21.223611</td>\n",
       "    </tr>\n",
       "    <tr>\n",
       "      <th>747</th>\n",
       "      <td>NCMR07XB</td>\n",
       "      <td>03460</td>\n",
       "      <td>b'B'</td>\n",
       "      <td>26.378000</td>\n",
       "      <td>35.366829</td>\n",
       "      <td>21.258333</td>\n",
       "    </tr>\n",
       "    <tr>\n",
       "      <th>748</th>\n",
       "      <td>NCMR07XB</td>\n",
       "      <td>03470</td>\n",
       "      <td>b'B'</td>\n",
       "      <td>26.668171</td>\n",
       "      <td>35.026329</td>\n",
       "      <td>21.318056</td>\n",
       "    </tr>\n",
       "    <tr>\n",
       "      <th>749</th>\n",
       "      <td>NCMR07XB</td>\n",
       "      <td>03480</td>\n",
       "      <td>b'B'</td>\n",
       "      <td>26.829170</td>\n",
       "      <td>34.834671</td>\n",
       "      <td>21.353472</td>\n",
       "    </tr>\n",
       "    <tr>\n",
       "      <th>750</th>\n",
       "      <td>NCMR07XB</td>\n",
       "      <td>03490</td>\n",
       "      <td>b'B'</td>\n",
       "      <td>26.976170</td>\n",
       "      <td>34.655998</td>\n",
       "      <td>21.385417</td>\n",
       "    </tr>\n",
       "    <tr>\n",
       "      <th>751</th>\n",
       "      <td>NCMR07XB</td>\n",
       "      <td>03500</td>\n",
       "      <td>b'B'</td>\n",
       "      <td>27.102831</td>\n",
       "      <td>34.495331</td>\n",
       "      <td>21.413194</td>\n",
       "    </tr>\n",
       "    <tr>\n",
       "      <th>752</th>\n",
       "      <td>NCMR07XB</td>\n",
       "      <td>03510</td>\n",
       "      <td>b'B'</td>\n",
       "      <td>27.338499</td>\n",
       "      <td>34.204330</td>\n",
       "      <td>21.464583</td>\n",
       "    </tr>\n",
       "    <tr>\n",
       "      <th>753</th>\n",
       "      <td>NCMR07XB</td>\n",
       "      <td>03520</td>\n",
       "      <td>b'B'</td>\n",
       "      <td>27.496170</td>\n",
       "      <td>34.026169</td>\n",
       "      <td>21.498611</td>\n",
       "    </tr>\n",
       "  </tbody>\n",
       "</table>\n",
       "</div>"
      ],
      "text/plain": [
       "       Cruise Station  Type  Longitude   Latitude  \\\n",
       "735  NCMR07XB   03320  b'B'  23.961330  37.367168   \n",
       "736  NCMR07XB   03330  b'B'  24.178829  37.205830   \n",
       "737  NCMR07XB   03340  b'B'  24.317169  37.099331   \n",
       "738  NCMR07XB   03350  b'B'  24.455170  36.988171   \n",
       "739  NCMR07XB   03360  b'B'  24.682329  36.789829   \n",
       "740  NCMR07XB   03370  b'B'  24.872169  36.598671   \n",
       "741  NCMR07XB   03380  b'B'  25.091330  36.420330   \n",
       "742  NCMR07XB   03400  b'B'  25.290831  36.261829   \n",
       "743  NCMR07XB   03410  b'B'  25.483330  36.099998   \n",
       "744  NCMR07XB   03420  b'B'  25.651670  35.969669   \n",
       "745  NCMR07XB   03440  b'B'  25.994671  35.668671   \n",
       "746  NCMR07XB   03450  b'B'  26.176331  35.530331   \n",
       "747  NCMR07XB   03460  b'B'  26.378000  35.366829   \n",
       "748  NCMR07XB   03470  b'B'  26.668171  35.026329   \n",
       "749  NCMR07XB   03480  b'B'  26.829170  34.834671   \n",
       "750  NCMR07XB   03490  b'B'  26.976170  34.655998   \n",
       "751  NCMR07XB   03500  b'B'  27.102831  34.495331   \n",
       "752  NCMR07XB   03510  b'B'  27.338499  34.204330   \n",
       "753  NCMR07XB   03520  b'B'  27.496170  34.026169   \n",
       "\n",
       "     Decimal Gregorian Days of the station  \n",
       "735                              20.838889  \n",
       "736                              20.874306  \n",
       "737                              20.897222  \n",
       "738                              20.920833  \n",
       "739                              20.963194  \n",
       "740                              20.999306  \n",
       "741                              21.038194  \n",
       "742                              21.070139  \n",
       "743                              21.102083  \n",
       "744                              21.133333  \n",
       "745                              21.193056  \n",
       "746                              21.223611  \n",
       "747                              21.258333  \n",
       "748                              21.318056  \n",
       "749                              21.353472  \n",
       "750                              21.385417  \n",
       "751                              21.413194  \n",
       "752                              21.464583  \n",
       "753                              21.498611  "
      ]
     },
     "execution_count": 6,
     "metadata": {},
     "output_type": "execute_result"
    }
   ],
   "source": [
    "df[df.Cruise == selected_B.iloc[0].Cruise]"
   ]
  },
  {
   "cell_type": "code",
   "execution_count": 7,
   "metadata": {},
   "outputs": [
    {
     "data": {
      "text/html": [
       "<div>\n",
       "<style scoped>\n",
       "    .dataframe tbody tr th:only-of-type {\n",
       "        vertical-align: middle;\n",
       "    }\n",
       "\n",
       "    .dataframe tbody tr th {\n",
       "        vertical-align: top;\n",
       "    }\n",
       "\n",
       "    .dataframe thead th {\n",
       "        text-align: right;\n",
       "    }\n",
       "</style>\n",
       "<table border=\"1\" class=\"dataframe\">\n",
       "  <thead>\n",
       "    <tr style=\"text-align: right;\">\n",
       "      <th></th>\n",
       "      <th>Cruise</th>\n",
       "      <th>Station</th>\n",
       "      <th>Type</th>\n",
       "      <th>Longitude</th>\n",
       "      <th>Latitude</th>\n",
       "      <th>Decimal Gregorian Days of the station</th>\n",
       "    </tr>\n",
       "  </thead>\n",
       "  <tbody>\n",
       "    <tr>\n",
       "      <th>735</th>\n",
       "      <td>NCMR07XB</td>\n",
       "      <td>03320</td>\n",
       "      <td>b'B'</td>\n",
       "      <td>23.961330</td>\n",
       "      <td>37.367168</td>\n",
       "      <td>20.838889</td>\n",
       "    </tr>\n",
       "    <tr>\n",
       "      <th>736</th>\n",
       "      <td>NCMR07XB</td>\n",
       "      <td>03330</td>\n",
       "      <td>b'B'</td>\n",
       "      <td>24.178829</td>\n",
       "      <td>37.205830</td>\n",
       "      <td>20.874306</td>\n",
       "    </tr>\n",
       "    <tr>\n",
       "      <th>737</th>\n",
       "      <td>NCMR07XB</td>\n",
       "      <td>03340</td>\n",
       "      <td>b'B'</td>\n",
       "      <td>24.317169</td>\n",
       "      <td>37.099331</td>\n",
       "      <td>20.897222</td>\n",
       "    </tr>\n",
       "    <tr>\n",
       "      <th>738</th>\n",
       "      <td>NCMR07XB</td>\n",
       "      <td>03350</td>\n",
       "      <td>b'B'</td>\n",
       "      <td>24.455170</td>\n",
       "      <td>36.988171</td>\n",
       "      <td>20.920833</td>\n",
       "    </tr>\n",
       "    <tr>\n",
       "      <th>739</th>\n",
       "      <td>NCMR07XB</td>\n",
       "      <td>03360</td>\n",
       "      <td>b'B'</td>\n",
       "      <td>24.682329</td>\n",
       "      <td>36.789829</td>\n",
       "      <td>20.963194</td>\n",
       "    </tr>\n",
       "  </tbody>\n",
       "</table>\n",
       "</div>"
      ],
      "text/plain": [
       "       Cruise Station  Type  Longitude   Latitude  \\\n",
       "735  NCMR07XB   03320  b'B'  23.961330  37.367168   \n",
       "736  NCMR07XB   03330  b'B'  24.178829  37.205830   \n",
       "737  NCMR07XB   03340  b'B'  24.317169  37.099331   \n",
       "738  NCMR07XB   03350  b'B'  24.455170  36.988171   \n",
       "739  NCMR07XB   03360  b'B'  24.682329  36.789829   \n",
       "\n",
       "     Decimal Gregorian Days of the station  \n",
       "735                              20.838889  \n",
       "736                              20.874306  \n",
       "737                              20.897222  \n",
       "738                              20.920833  \n",
       "739                              20.963194  "
      ]
     },
     "execution_count": 7,
     "metadata": {},
     "output_type": "execute_result"
    }
   ],
   "source": [
    "B =  df[df.Cruise == selected_B.iloc[0].Cruise]\n",
    "C =  df[df.Cruise == selected_C.iloc[0].Cruise]\n",
    "B.head()"
   ]
  },
  {
   "cell_type": "code",
   "execution_count": 8,
   "metadata": {},
   "outputs": [
    {
     "data": {
      "image/png": "[encoded data removed]",
      "text/plain": [
       "<Figure size 936x576 with 4 Axes>"
      ]
     },
     "metadata": {},
     "output_type": "display_data"
    }
   ],
   "source": [
    "fig, axes = plt.subplots(nrows=2,  ncols=2, figsize=(13,  8), sharey=True)\n",
    "\n",
    "for i, name in  enumerate(['var2', 'var3']):\n",
    "\n",
    "    for depth, x in zip(ds.variables['var1'][B.index], ds.variables[name][B.index]):\n",
    "        axes[i, 0].set_title(ds.variables[name].long_name  + '_' + 'B')\n",
    "        axes[i, 0].plot(x, -depth)\n",
    "    for depth, x in zip(ds.variables['var1'][C.index], ds.variables[name][C.index]):\n",
    "        axes[i, 1].set_title(ds.variables[name].long_name  + '_' + 'C')\n",
    "        axes[i, 1].plot(x, -depth)\n"
   ]
  },
  {
   "cell_type": "code",
   "execution_count": 100,
   "metadata": {},
   "outputs": [
    {
     "data": {
      "text/plain": [
       "(19, 14175)"
      ]
     },
     "execution_count": 100,
     "metadata": {},
     "output_type": "execute_result"
    }
   ],
   "source": []
  },
  {
   "cell_type": "code",
   "execution_count": 85,
   "metadata": {},
   "outputs": [
    {
     "data": {
      "text/plain": [
       "masked_array(data=[0.9929999709129333, 1.9850000143051147,\n",
       "                   2.9779999256134033, ..., --, --, --],\n",
       "             mask=[False, False, False, ...,  True,  True,  True],\n",
       "       fill_value=-10000000000.0,\n",
       "            dtype=float32)"
      ]
     },
     "execution_count": 85,
     "metadata": {},
     "output_type": "execute_result"
    }
   ],
   "source": []
  },
  {
   "cell_type": "code",
   "execution_count": 10,
   "metadata": {},
   "outputs": [
    {
     "name": "stdout",
     "output_type": "stream",
     "text": [
      "10.2 ms ± 543 µs per loop (mean ± std. dev. of 7 runs, 100 loops each)\n"
     ]
    }
   ],
   "source": [
    "%%timeit\n",
    "np.argmax(cdi_ids == 'FS35196900000_90460_H13')"
   ]
  },
  {
   "cell_type": "code",
   "execution_count": 11,
   "metadata": {},
   "outputs": [
    {
     "data": {
      "text/plain": [
       "{'series': '[{\"Depth\":0.0,\"ITS-90 water temperature\":22.7000007629,\"Water body salinity\":null},{\"Depth\":5.0,\"ITS-90 water temperature\":21.7999992371,\"Water body salinity\":null},{\"Depth\":10.0,\"ITS-90 water temperature\":21.7000007629,\"Water body salinity\":null},{\"Depth\":30.0,\"ITS-90 water temperature\":21.7000007629,\"Water body salinity\":null}]',\n",
       " 'meta': {'date': datetime.datetime(1969, 11, 9, 13, 0)}}"
      ]
     },
     "execution_count": 11,
     "metadata": {},
     "output_type": "execute_result"
    }
   ],
   "source": [
    "var_names = [\n",
    "    name \n",
    "    for name, var \n",
    "    in ds.variables.items() \n",
    "    if name.startswith('var') and not '_' in name\n",
    "]\n",
    "\n",
    "# add the variables to the list\n",
    "variables = {}\n",
    "for var_name in var_names:\n",
    "    var = ds.variables[var_name]\n",
    "    variables[var.long_name] = var[idx]\n",
    "\n",
    "df = pd.DataFrame(data=variables)\n",
    "# get rid of missing data\n",
    "df = df.dropna(how='all')\n",
    "\n",
    "# get metadata\n",
    "date_nums = ds.variables['date_time'][idx]\n",
    "date_units = ds.variables['date_time'].units\n",
    "date = netCDF4.num2date(date_nums, date_units)\n",
    "records = df.to_json(orient='records')\n",
    "response = {\n",
    "    \"series\": records,\n",
    "    \"meta\": {\n",
    "        \"date\": date\n",
    "    }\n",
    "}\n",
    "response"
   ]
  },
  {
   "cell_type": "code",
   "execution_count": 12,
   "metadata": {},
   "outputs": [
    {
     "data": {
      "text/plain": [
       "(451610, 9816)"
      ]
     },
     "execution_count": 12,
     "metadata": {},
     "output_type": "execute_result"
    }
   ],
   "source": [
    "date_nums.shape\n",
    "ds.variables['var2'].shape"
   ]
  },
  {
   "cell_type": "code",
   "execution_count": 13,
   "metadata": {},
   "outputs": [
    {
     "data": {
      "text/plain": [
       "<class 'netCDF4._netCDF4.Variable'>\n",
       "float32 var1(N_STATIONS, N_SAMPLES)\n",
       "    long_name: Depth\n",
       "    units: m\n",
       "    comment: Codes: SDN:P01::ADEPZZ01 SDN:P06::ULAA\n",
       "    ancillary_variables: var1_qc var1_err\n",
       "    C_format: %.2f\n",
       "    FORTRAN_format: F12.2\n",
       "    _FillValue: -10000000000.0\n",
       "unlimited dimensions: \n",
       "current shape = (451610, 9816)\n",
       "filling on"
      ]
     },
     "execution_count": 13,
     "metadata": {},
     "output_type": "execute_result"
    }
   ],
   "source": [
    "ds.variables['var1']"
   ]
  },
  {
   "cell_type": "code",
   "execution_count": null,
   "metadata": {},
   "outputs": [],
   "source": []
  },
  {
   "cell_type": "code",
   "execution_count": null,
   "metadata": {},
   "outputs": [],
   "source": []
  }
 ],
 "metadata": {
  "kernelspec": {
   "display_name": "Python 3",
   "language": "python",
   "name": "python3"
  },
  "language_info": {
   "codemirror_mode": {
    "name": "ipython",
    "version": 3
   },
   "file_extension": ".py",
   "mimetype": "text/x-python",
   "name": "python",
   "nbconvert_exporter": "python",
   "pygments_lexer": "ipython3",
   "version": "3.6.9"
  }
 },
 "nbformat": 4,
 "nbformat_minor": 2
}
