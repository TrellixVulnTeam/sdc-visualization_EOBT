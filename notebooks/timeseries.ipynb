{
 "cells": [
  {
   "cell_type": "code",
   "execution_count": 1,
   "metadata": {},
   "outputs": [],
   "source": [
    "import netCDF4\n",
    "import pyproj\n",
    "import numpy as np\n",
    "import pandas as pd"
   ]
  },
  {
   "cell_type": "code",
   "execution_count": 2,
   "metadata": {},
   "outputs": [],
   "source": [
    "ds = netCDF4.Dataset('/Users/baart_f/data/odv/data_from_SDN_2017-11_TS_profiles_non-restricted_med.nc')"
   ]
  },
  {
   "cell_type": "code",
   "execution_count": 3,
   "metadata": {},
   "outputs": [],
   "source": [
    "station_lat = ds.variables['latitude'][:]\n",
    "station_lon = ds.variables['longitude'][:]\n",
    "lon_i = 10\n",
    "lat_i = 30\n",
    "lon = np.zeros_like(station_lon) + lon_i\n",
    "lat = np.zeros_like(station_lat) + lat_i"
   ]
  },
  {
   "cell_type": "code",
   "execution_count": 4,
   "metadata": {},
   "outputs": [],
   "source": [
    "wgs84 = pyproj.Geod(ellps='WGS84')\n"
   ]
  },
  {
   "cell_type": "code",
   "execution_count": 5,
   "metadata": {},
   "outputs": [],
   "source": [
    "_, _, distance = wgs84.inv(\n",
    "    lon, lat,\n",
    "    station_lon, station_lat\n",
    ")\n"
   ]
  },
  {
   "cell_type": "code",
   "execution_count": 6,
   "metadata": {},
   "outputs": [
    {
     "data": {
      "text/plain": [
       "389391"
      ]
     },
     "execution_count": 6,
     "metadata": {},
     "output_type": "execute_result"
    }
   ],
   "source": [
    "idx = distance.argmin()\n",
    "idx"
   ]
  },
  {
   "cell_type": "code",
   "execution_count": 18,
   "metadata": {},
   "outputs": [
    {
     "data": {
      "text/plain": [
       "True"
      ]
     },
     "execution_count": 18,
     "metadata": {},
     "output_type": "execute_result"
    }
   ],
   "source": [
    "var = ds.variables['metavar1']\n",
    "var.dtype == 'S1'"
   ]
  },
  {
   "cell_type": "code",
   "execution_count": 8,
   "metadata": {},
   "outputs": [
    {
     "data": {
      "text/plain": [
       "(array('90460', dtype='<U75'),\n",
       " array('FS35196900000_90460_H13', dtype='<U36'),\n",
       " 486)"
      ]
     },
     "execution_count": 8,
     "metadata": {},
     "output_type": "execute_result"
    }
   ],
   "source": [
    "cruise = netCDF4.chartostring(ds.variables['metavar1'][idx])\n",
    "profile = netCDF4.chartostring(ds.variables['metavar2'][idx])\n",
    "type_ = ds.variables['metavar3'][idx]\n",
    "cdi_id = netCDF4.chartostring(ds.variables['metavar4'][idx])\n",
    "edmo_code = ds.variables['metavar5'][idx]\n",
    "profile, cdi_id, edmo_code"
   ]
  },
  {
   "cell_type": "code",
   "execution_count": 9,
   "metadata": {},
   "outputs": [],
   "source": [
    "cdi_ids = netCDF4.chartostring(ds.variables['metavar4'][:])"
   ]
  },
  {
   "cell_type": "code",
   "execution_count": 10,
   "metadata": {},
   "outputs": [
    {
     "name": "stdout",
     "output_type": "stream",
     "text": [
      "10.2 ms ± 543 µs per loop (mean ± std. dev. of 7 runs, 100 loops each)\n"
     ]
    }
   ],
   "source": [
    "%%timeit\n",
    "np.argmax(cdi_ids == 'FS35196900000_90460_H13')"
   ]
  },
  {
   "cell_type": "code",
   "execution_count": 11,
   "metadata": {},
   "outputs": [
    {
     "data": {
      "text/plain": [
       "{'series': '[{\"Depth\":0.0,\"ITS-90 water temperature\":22.7000007629,\"Water body salinity\":null},{\"Depth\":5.0,\"ITS-90 water temperature\":21.7999992371,\"Water body salinity\":null},{\"Depth\":10.0,\"ITS-90 water temperature\":21.7000007629,\"Water body salinity\":null},{\"Depth\":30.0,\"ITS-90 water temperature\":21.7000007629,\"Water body salinity\":null}]',\n",
       " 'meta': {'date': datetime.datetime(1969, 11, 9, 13, 0)}}"
      ]
     },
     "execution_count": 11,
     "metadata": {},
     "output_type": "execute_result"
    }
   ],
   "source": [
    "var_names = [\n",
    "    name \n",
    "    for name, var \n",
    "    in ds.variables.items() \n",
    "    if name.startswith('var') and not '_' in name\n",
    "]\n",
    "\n",
    "# add the variables to the list\n",
    "variables = {}\n",
    "for var_name in var_names:\n",
    "    var = ds.variables[var_name]\n",
    "    variables[var.long_name] = var[idx]\n",
    "\n",
    "df = pd.DataFrame(data=variables)\n",
    "# get rid of missing data\n",
    "df = df.dropna(how='all')\n",
    "\n",
    "# get metadata\n",
    "date_nums = ds.variables['date_time'][idx]\n",
    "date_units = ds.variables['date_time'].units\n",
    "date = netCDF4.num2date(date_nums, date_units)\n",
    "records = df.to_json(orient='records')\n",
    "response = {\n",
    "    \"series\": records,\n",
    "    \"meta\": {\n",
    "        \"date\": date\n",
    "    }\n",
    "}\n",
    "response"
   ]
  },
  {
   "cell_type": "code",
   "execution_count": 12,
   "metadata": {},
   "outputs": [
    {
     "data": {
      "text/plain": [
       "(451610, 9816)"
      ]
     },
     "execution_count": 12,
     "metadata": {},
     "output_type": "execute_result"
    }
   ],
   "source": [
    "date_nums.shape\n",
    "ds.variables['var2'].shape"
   ]
  },
  {
   "cell_type": "code",
   "execution_count": 13,
   "metadata": {},
   "outputs": [
    {
     "data": {
      "text/plain": [
       "<class 'netCDF4._netCDF4.Variable'>\n",
       "float32 var1(N_STATIONS, N_SAMPLES)\n",
       "    long_name: Depth\n",
       "    units: m\n",
       "    comment: Codes: SDN:P01::ADEPZZ01 SDN:P06::ULAA\n",
       "    ancillary_variables: var1_qc var1_err\n",
       "    C_format: %.2f\n",
       "    FORTRAN_format: F12.2\n",
       "    _FillValue: -10000000000.0\n",
       "unlimited dimensions: \n",
       "current shape = (451610, 9816)\n",
       "filling on"
      ]
     },
     "execution_count": 13,
     "metadata": {},
     "output_type": "execute_result"
    }
   ],
   "source": [
    "ds.variables['var1']"
   ]
  },
  {
   "cell_type": "code",
   "execution_count": null,
   "metadata": {},
   "outputs": [],
   "source": []
  },
  {
   "cell_type": "code",
   "execution_count": null,
   "metadata": {},
   "outputs": [],
   "source": []
  }
 ],
 "metadata": {
  "kernelspec": {
   "display_name": "Python 3",
   "language": "python",
   "name": "python3"
  },
  "language_info": {
   "codemirror_mode": {
    "name": "ipython",
    "version": 3
   },
   "file_extension": ".py",
   "mimetype": "text/x-python",
   "name": "python",
   "nbconvert_exporter": "python",
   "pygments_lexer": "ipython3",
   "version": "3.6.8"
  }
 },
 "nbformat": 4,
 "nbformat_minor": 2
}
