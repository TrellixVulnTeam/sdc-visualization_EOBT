{
 "cells": [
  {
   "cell_type": "code",
   "execution_count": 1,
   "metadata": {},
   "outputs": [],
   "source": [
    "import netCDF4\n",
    "import shapely.geometry\n",
    "import numpy as np\n",
    "import functools\n",
    "\n",
    "from shapely.strtree import STRtree\n",
    "\n",
    "#%load_ext line_profiler"
   ]
  },
  {
   "cell_type": "code",
   "execution_count": 2,
   "metadata": {},
   "outputs": [],
   "source": [
    "path = 'C:/Users/micha/data/odv/public/profiles/data_from_SDN_2015-09_TS_MedSea_QC_done_v2.nc'\n"
   ]
  },
  {
   "cell_type": "code",
   "execution_count": 3,
   "metadata": {},
   "outputs": [
    {
     "data": {
      "image/svg+xml": [
       "<svg xmlns=\"http://www.w3.org/2000/svg\" xmlns:xlink=\"http://www.w3.org/1999/xlink\" width=\"100.0\" height=\"100.0\" viewBox=\"24.722700633337663 34.57730346373072 0.618470352369016 0.34920584385897513\" preserveAspectRatio=\"xMinYMin meet\"><g transform=\"matrix(1,0,0,-1,0,69.50381277132041)\"><path fill-rule=\"evenodd\" fill=\"#66cc99\" stroke=\"#555555\" stroke-width=\"0.01236940704738032\" opacity=\"0.6\" d=\"M 24.745606942684663,34.895011468818964 L 25.290330152765776,34.9036029982427 L 25.31826467635968,34.61601655018394 L 24.763938973793167,34.60020977307772 L 24.745606942684663,34.895011468818964 z\" /></g></svg>"
      ],
      "text/plain": [
       "<shapely.geometry.polygon.PolygonAdapter at 0x1b5b6ab1048>"
      ]
     },
     "execution_count": 3,
     "metadata": {},
     "output_type": "execute_result"
    }
   ],
   "source": [
    "#south of Creta\n",
    "geom = shapely.geometry.asShape({ \n",
    "    \"type\": \"Polygon\", \n",
    "    \"coordinates\":  [ [ [ 24.745606942684663, 34.895011468818964 ], [ 25.290330152765776, 34.903602998242697 ], \n",
    "[ 25.318264676359679, 34.616016550183943 ], [ 24.763938973793167, 34.600209773077722 ], [ 24.745606942684663, 34.895011468818964 ] ] ]\n",
    "    })\n",
    "geom\n"
   ]
  },
  {
   "cell_type": "code",
   "execution_count": 17,
   "metadata": {},
   "outputs": [
    {
     "ename": "NameError",
     "evalue": "name 'ds' is not defined",
     "output_type": "error",
     "traceback": [
      "\u001b[1;31m---------------------------------------------------------------------------\u001b[0m",
      "\u001b[1;31mNameError\u001b[0m                                 Traceback (most recent call last)",
      "\u001b[1;32m<ipython-input-17-5e2dda1969aa>\u001b[0m in \u001b[0;36m<module>\u001b[1;34m\u001b[0m\n\u001b[0;32m      1\u001b[0m \u001b[1;31m#for idx in idxs:\u001b[0m\u001b[1;33m\u001b[0m\u001b[1;33m\u001b[0m\u001b[1;33m\u001b[0m\u001b[0m\n\u001b[0;32m      2\u001b[0m \u001b[0mtimeframe\u001b[0m \u001b[1;33m=\u001b[0m \u001b[1;33m[\u001b[0m\u001b[1;36m2003\u001b[0m\u001b[1;33m,\u001b[0m \u001b[1;36m2004\u001b[0m\u001b[1;33m,\u001b[0m \u001b[1;36m2005\u001b[0m\u001b[1;33m]\u001b[0m\u001b[1;33m\u001b[0m\u001b[1;33m\u001b[0m\u001b[0m\n\u001b[1;32m----> 3\u001b[1;33m \u001b[1;32mdef\u001b[0m \u001b[0mindexes_of_year\u001b[0m\u001b[1;33m(\u001b[0m\u001b[0myear\u001b[0m\u001b[1;33m,\u001b[0m \u001b[0mindexes\u001b[0m \u001b[1;33m=\u001b[0m \u001b[0mindexes\u001b[0m\u001b[1;33m,\u001b[0m \u001b[0mds\u001b[0m \u001b[1;33m=\u001b[0m \u001b[0mds\u001b[0m\u001b[1;33m)\u001b[0m\u001b[1;33m:\u001b[0m\u001b[1;33m\u001b[0m\u001b[1;33m\u001b[0m\u001b[0m\n\u001b[0m\u001b[0;32m      4\u001b[0m \u001b[1;33m\u001b[0m\u001b[0m\n\u001b[0;32m      5\u001b[0m \u001b[1;33m\u001b[0m\u001b[0m\n",
      "\u001b[1;31mNameError\u001b[0m: name 'ds' is not defined"
     ]
    }
   ],
   "source": [
    "#for idx in idxs:\n",
    "timeframe = [2003, 2004, 2005]\n",
    "def indexes_of_year(year, indexes = indexes, ds = ds):\n",
    "    for idx in indexes:\n",
    "        date_nums = ds.variables['date_time'][idx] \n",
    "        date_units = ds.variables['date_time'].units\n",
    "        date = netCDF4.num2date(date_nums, date_units)\n",
    "        if date.year == year:\n",
    "            return idx\n"
   ]
  },
  {
   "cell_type": "code",
   "execution_count": 5,
   "metadata": {},
   "outputs": [],
   "source": [
    "@functools.lru_cache()\n",
    "def tree_from_path(path):\n",
    "    # get lat, lon from the dataset\n",
    "    with netCDF4.Dataset(path) as ds:\n",
    "        lon = ds.variables['longitude'][:]\n",
    "        lat = ds.variables['latitude'][:]\n",
    "    \n",
    "    # create spatial points so that we can query by geometry\n",
    "    points = [\n",
    "        shapely.geometry.Point(lon_i, lat_i) \n",
    "        for lon_i, lat_i \n",
    "        in zip(lon, lat)\n",
    "    ]\n",
    "\n",
    "    index_by_id = dict((id(pt), i) for i, pt in enumerate(points))\n",
    "    tree = STRtree(points)\n",
    "    return tree, index_by_id\n"
   ]
  },
  {
   "cell_type": "code",
   "execution_count": 6,
   "metadata": {},
   "outputs": [],
   "source": [
    "def query_tree(tree, index_by_id, geom):\n",
    "    \"\"\"lookup the indices by geometry\"\"\"\n",
    "    shapes = tree.query(geom)\n",
    "    idx = [\n",
    "        index_by_id[id(pt)] for pt in shapes\n",
    "    ]\n",
    "    # improves performance by a factor of 3\n",
    "    # sort to make it faster\n",
    "    idx = list(sorted(idx))\n",
    "    return idx\n"
   ]
  },
  {
   "cell_type": "code",
   "execution_count": 10,
   "metadata": {},
   "outputs": [
    {
     "data": {
      "text/plain": [
       "[4972,\n",
       " 4973,\n",
       " 5506,\n",
       " 5662,\n",
       " 6371,\n",
       " 6882,\n",
       " 70476,\n",
       " 109190,\n",
       " 119784,\n",
       " 150432,\n",
       " 150434,\n",
       " 150922,\n",
       " 150925,\n",
       " 178927,\n",
       " 188164,\n",
       " 190428,\n",
       " 190770,\n",
       " 193559,\n",
       " 202535,\n",
       " 203980,\n",
       " 204487,\n",
       " 207215]"
      ]
     },
     "execution_count": 10,
     "metadata": {},
     "output_type": "execute_result"
    }
   ],
   "source": [
    "tree, index_by_id = tree_from_path(path)\n",
    "indexes = query_tree(tree, index_by_id, geom)\n",
    "indexes"
   ]
  },
  {
   "cell_type": "code",
   "execution_count": 18,
   "metadata": {},
   "outputs": [
    {
     "ename": "NameError",
     "evalue": "name 'ds' is not defined",
     "output_type": "error",
     "traceback": [
      "\u001b[1;31m---------------------------------------------------------------------------\u001b[0m",
      "\u001b[1;31mNameError\u001b[0m                                 Traceback (most recent call last)",
      "\u001b[1;32m<ipython-input-18-ba7df67c01c7>\u001b[0m in \u001b[0;36m<module>\u001b[1;34m\u001b[0m\n\u001b[0;32m      1\u001b[0m \u001b[0myears\u001b[0m \u001b[1;33m=\u001b[0m \u001b[1;33m[\u001b[0m\u001b[1;36m2004\u001b[0m\u001b[1;33m,\u001b[0m\u001b[1;36m2005\u001b[0m\u001b[1;33m,\u001b[0m\u001b[1;36m2006\u001b[0m\u001b[1;33m]\u001b[0m\u001b[1;33m\u001b[0m\u001b[1;33m\u001b[0m\u001b[0m\n\u001b[1;32m----> 2\u001b[1;33m \u001b[1;33m[\u001b[0m\u001b[0mindexes_of_year\u001b[0m\u001b[1;33m(\u001b[0m\u001b[0mx\u001b[0m\u001b[1;33m,\u001b[0m \u001b[0mindexes\u001b[0m\u001b[1;33m,\u001b[0m \u001b[0mds\u001b[0m\u001b[1;33m)\u001b[0m \u001b[1;32mfor\u001b[0m \u001b[0mx\u001b[0m \u001b[1;32min\u001b[0m \u001b[0myears\u001b[0m\u001b[1;33m]\u001b[0m\u001b[1;33m\u001b[0m\u001b[1;33m\u001b[0m\u001b[0m\n\u001b[0m",
      "\u001b[1;32m<ipython-input-18-ba7df67c01c7>\u001b[0m in \u001b[0;36m<listcomp>\u001b[1;34m(.0)\u001b[0m\n\u001b[0;32m      1\u001b[0m \u001b[0myears\u001b[0m \u001b[1;33m=\u001b[0m \u001b[1;33m[\u001b[0m\u001b[1;36m2004\u001b[0m\u001b[1;33m,\u001b[0m\u001b[1;36m2005\u001b[0m\u001b[1;33m,\u001b[0m\u001b[1;36m2006\u001b[0m\u001b[1;33m]\u001b[0m\u001b[1;33m\u001b[0m\u001b[1;33m\u001b[0m\u001b[0m\n\u001b[1;32m----> 2\u001b[1;33m \u001b[1;33m[\u001b[0m\u001b[0mindexes_of_year\u001b[0m\u001b[1;33m(\u001b[0m\u001b[0mx\u001b[0m\u001b[1;33m,\u001b[0m \u001b[0mindexes\u001b[0m\u001b[1;33m,\u001b[0m \u001b[0mds\u001b[0m\u001b[1;33m)\u001b[0m \u001b[1;32mfor\u001b[0m \u001b[0mx\u001b[0m \u001b[1;32min\u001b[0m \u001b[0myears\u001b[0m\u001b[1;33m]\u001b[0m\u001b[1;33m\u001b[0m\u001b[1;33m\u001b[0m\u001b[0m\n\u001b[0m",
      "\u001b[1;31mNameError\u001b[0m: name 'ds' is not defined"
     ]
    }
   ],
   "source": [
    "years = [2004,2005,2006]\n",
    "[indexes_of_year(x, indexes, ds) for x in years]"
   ]
  },
  {
   "cell_type": "code",
   "execution_count": 44,
   "metadata": {},
   "outputs": [],
   "source": [
    "def query_path_by_geometry(path, geom, max_n=300):\n",
    "    tree, index_by_id = tree_from_path(path)\n",
    "    idx = query_tree(tree, index_by_id, geom)\n",
    "\n",
    "    print (idx)\n",
    "    if len(idx) > max_n:\n",
    "        # if we have more than 300 stationss this function takes over 5s\n",
    "        # let's just return a random sample of 1000 points\n",
    "        sample = np.random.choice(idx, max_n, replace=False)\n",
    "        # sort and rename to idx\n",
    "        idx = list(sorted(sample))\n",
    "    \n",
    "    # now that we have <=max_n ids, get the data for each of them. \n",
    "    with netCDF4.Dataset(path) as ds:\n",
    "\n",
    "        # create a list with the var that contain the temperature, salinity and depth values\n",
    "        var_names = [\n",
    "            name\n",
    "            for name, var\n",
    "            in ds.variables.items()\n",
    "            if (name.startswith('var') and not '_' in name)\n",
    "        ]\n",
    "        var_names\n",
    "\n",
    "        idx_variables = {}\n",
    "        for var_name in var_names:\n",
    "            var = ds.variables[var_name]\n",
    "\n",
    "            try:\n",
    "                idx_variables[var.long_name] = var[idx]\n",
    "            except AttributeError:\n",
    "                print (\"failed to index {} with index {}\".format(var,  idx))\n",
    "    return idx_variables\n"
   ]
  },
  {
   "cell_type": "code",
   "execution_count": 41,
   "metadata": {},
   "outputs": [],
   "source": [
    "# first call will cache the tree for this path\n",
    "tree, index_by_id = tree_from_path(path)\n"
   ]
  },
  {
   "cell_type": "code",
   "execution_count": 46,
   "metadata": {},
   "outputs": [
    {
     "name": "stdout",
     "output_type": "stream",
     "text": [
      "[4972, 4973, 5506, 5662, 6371, 6882, 70476, 109190, 119784, 150432, 150434, 150922, 150925, 178927, 188164, 190428, 190770, 193559, 202535, 203980, 204487, 207215]\n"
     ]
    }
   ],
   "source": [
    "#%%timeit\n",
    "# now we can query a 300 point sample from a 10000 station covering geometry in 2s\n",
    "idx_variables = query_path_by_geometry(path, geom)\n"
   ]
  },
  {
   "cell_type": "code",
   "execution_count": null,
   "metadata": {},
   "outputs": [],
   "source": []
  }
 ],
 "metadata": {
  "kernelspec": {
   "display_name": "Python 3",
   "language": "python",
   "name": "python3"
  },
  "language_info": {
   "codemirror_mode": {
    "name": "ipython",
    "version": 3
   },
   "file_extension": ".py",
   "mimetype": "text/x-python",
   "name": "python",
   "nbconvert_exporter": "python",
   "pygments_lexer": "ipython3",
   "version": "3.6.10"
  }
 },
 "nbformat": 4,
 "nbformat_minor": 4
}
