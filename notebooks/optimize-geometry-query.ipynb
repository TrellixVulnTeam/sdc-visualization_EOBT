{
 "cells": [
  {
   "cell_type": "code",
   "execution_count": 1,
   "metadata": {},
   "outputs": [],
   "source": [
    "import netCDF4\n",
    "import shapely.geometry\n",
    "import numpy as np\n",
    "import functools\n",
    "\n",
    "from shapely.strtree import STRtree\n",
    "\n",
    "%load_ext line_profiler"
   ]
  },
  {
   "cell_type": "code",
   "execution_count": 2,
   "metadata": {},
   "outputs": [],
   "source": [
    "path = '/Users/baart_f/data/odv/public/profiles/data_from_SDN_2015-09_TS_MedSea_QC_done_v2.nc'"
   ]
  },
  {
   "cell_type": "code",
   "execution_count": 3,
   "metadata": {},
   "outputs": [
    {
     "data": {
      "image/svg+xml": [
       "<svg xmlns=\"http://www.w3.org/2000/svg\" xmlns:xlink=\"http://www.w3.org/1999/xlink\" width=\"100.0\" height=\"100.0\" viewBox=\"3.941062515457499 40.20930524992091 2.7959415987113583 2.466198411068504\" preserveAspectRatio=\"xMinYMin meet\"><g transform=\"matrix(1,0,0,-1,0,82.88480891091032)\"><path fill-rule=\"evenodd\" fill=\"#66cc99\" stroke=\"#555555\" stroke-width=\"0.055918831974227166\" opacity=\"0.6\" d=\"M 4.044615908002364,41.968590393183135 L 4.584833470736417,42.571950268444546 L 5.980980158841305,42.536871205929344 L 6.633450721623992,41.83528995562538 L 6.324754971490249,40.31285864246578 L 4.556770220724259,40.902186892721105 L 4.556770220724259,40.902186892721105 L 4.044615908002364,41.968590393183135 z\" /></g></svg>"
      ],
      "text/plain": [
       "<shapely.geometry.polygon.PolygonAdapter at 0x109806f10>"
      ]
     },
     "execution_count": 3,
     "metadata": {},
     "output_type": "execute_result"
    }
   ],
   "source": [
    "geom = shapely.geometry.asShape({ \n",
    "    \"type\": \"Polygon\", \n",
    "    \"coordinates\": [ [ [ 4.044615908002364, 41.968590393183135 ], [ 4.584833470736417, 42.571950268444546 ], [ 5.980980158841305, 42.536871205929344 ], [ 6.633450721623992, 41.835289955625377 ], [ 6.324754971490249, 40.312858642465777 ], [ 4.556770220724259, 40.902186892721105 ], [ 4.556770220724259, 40.902186892721105 ], [ 4.044615908002364, 41.968590393183135 ] ] ] \n",
    "})\n",
    "geom"
   ]
  },
  {
   "cell_type": "code",
   "execution_count": null,
   "metadata": {},
   "outputs": [],
   "source": []
  },
  {
   "cell_type": "code",
   "execution_count": 4,
   "metadata": {},
   "outputs": [],
   "source": [
    "@functools.lru_cache()\n",
    "def tree_from_path(path):\n",
    "    # get lat, lon from the dataset\n",
    "    with netCDF4.Dataset(path) as ds:\n",
    "        lon = ds.variables['longitude'][:]\n",
    "        lat = ds.variables['latitude'][:]\n",
    "    \n",
    "    # create spatial points so that we can query by geometry\n",
    "    points = [\n",
    "        shapely.geometry.Point(lon_i, lat_i) \n",
    "        for lon_i, lat_i \n",
    "        in zip(lon, lat)\n",
    "    ]\n",
    "\n",
    "    index_by_id = dict((id(pt), i) for i, pt in enumerate(points))\n",
    "    tree = STRtree(points)\n",
    "    return tree, index_by_id\n"
   ]
  },
  {
   "cell_type": "code",
   "execution_count": null,
   "metadata": {},
   "outputs": [],
   "source": []
  },
  {
   "cell_type": "code",
   "execution_count": 17,
   "metadata": {},
   "outputs": [],
   "source": [
    "def query_tree(tree, index_by_id, geom):\n",
    "    \"\"\"lookup the indices by geometry\"\"\"\n",
    "    shapes = tree.query(geom)\n",
    "    idx = [\n",
    "        index_by_id[id(pt)] for pt in shapes\n",
    "    ]\n",
    "    # improves performance by a factor of 3\n",
    "    # sort to make it faster\n",
    "    idx = list(sorted(idx))\n",
    "    return idx\n"
   ]
  },
  {
   "cell_type": "code",
   "execution_count": 21,
   "metadata": {},
   "outputs": [],
   "source": [
    "def query_path_by_geometry(path, geom, max_n=300):\n",
    "    tree, index_by_id = tree_from_path(path)\n",
    "    idx = query_tree(tree, index_by_id, geom)\n",
    "\n",
    "    \n",
    "    if len(idx) > max_n:\n",
    "        # if we have more than 300 stationss this function takes over 5s\n",
    "        # let's just return a random sample of 1000 points\n",
    "        sample = np.random.choice(idx, max_n, replace=False)\n",
    "        # sort and rename to idx\n",
    "        idx = list(sorted(sample))\n",
    "    \n",
    "    # now that we have <=max_n ids, get the data for each of them. \n",
    "    with netCDF4.Dataset(path) as ds:\n",
    "\n",
    "        # create a list with the var that contain the temperature, salinity and depth values\n",
    "        var_names = [\n",
    "            name\n",
    "            for name, var\n",
    "            in ds.variables.items()\n",
    "            if (name.startswith('var') and not '_' in name)\n",
    "        ]\n",
    "        var_names\n",
    "\n",
    "        idx_variables = {}\n",
    "        for var_name in var_names:\n",
    "            var = ds.variables[var_name]\n",
    "\n",
    "            try:\n",
    "                idx_variables[var.long_name] = var[idx]\n",
    "            except AttributeError:\n",
    "                print (\"failed to index {} with index {}\".format(var,  idx))\n",
    "    return idx_variables\n"
   ]
  },
  {
   "cell_type": "code",
   "execution_count": 22,
   "metadata": {},
   "outputs": [],
   "source": [
    "# first call will cache the tree for this path\n",
    "tree, index_by_id = tree_from_path(path)\n"
   ]
  },
  {
   "cell_type": "code",
   "execution_count": 23,
   "metadata": {},
   "outputs": [
    {
     "name": "stdout",
     "output_type": "stream",
     "text": [
      "sampling 300 idx from 10576\n",
      "sampling 300 idx from 10576\n",
      "sampling 300 idx from 10576\n",
      "sampling 300 idx from 10576\n",
      "sampling 300 idx from 10576\n",
      "sampling 300 idx from 10576\n",
      "sampling 300 idx from 10576\n",
      "sampling 300 idx from 10576\n",
      "2.89 s ± 60.1 ms per loop (mean ± std. dev. of 7 runs, 1 loop each)\n"
     ]
    }
   ],
   "source": [
    "%%timeit\n",
    "# now we can query a 300 point sample from a 10000 station covering geometry in 2s\n",
    "idx_variables = query_path_by_geometry(path, geom)"
   ]
  },
  {
   "cell_type": "code",
   "execution_count": null,
   "metadata": {},
   "outputs": [],
   "source": []
  }
 ],
 "metadata": {
  "kernelspec": {
   "display_name": "Python 3",
   "language": "python",
   "name": "python3"
  },
  "language_info": {
   "codemirror_mode": {
    "name": "ipython",
    "version": 3
   },
   "file_extension": ".py",
   "mimetype": "text/x-python",
   "name": "python",
   "nbconvert_exporter": "python",
   "pygments_lexer": "ipython3",
   "version": "3.8.5"
  }
 },
 "nbformat": 4,
 "nbformat_minor": 4
}
