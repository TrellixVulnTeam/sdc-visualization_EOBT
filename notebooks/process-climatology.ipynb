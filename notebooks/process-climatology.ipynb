{
 "cells": [
  {
   "cell_type": "code",
   "execution_count": 33,
   "metadata": {},
   "outputs": [],
   "source": [
    "import xarray\n",
    "import numpy as np\n",
    "\n",
    "import ipyvolume\n"
   ]
  },
  {
   "cell_type": "code",
   "execution_count": 34,
   "metadata": {},
   "outputs": [
    {
     "data": {
      "text/html": [
       "<pre>&lt;xarray.Dataset&gt;\n",
       "Dimensions:               (altitude: 33, latitude: 129, longitude: 367, time: 1)\n",
       "Coordinates:\n",
       "  * time                  (time) datetime64[ns] 1957-12-16\n",
       "  * altitude              (altitude) float32 -5500.0 -5000.0 ... -10.0 0.0\n",
       "  * latitude              (latitude) float32 30.0 30.125 30.25 ... 45.875 46.0\n",
       "  * longitude             (longitude) float32 -9.25 -9.125 -9.0 ... 36.375 36.5\n",
       "Data variables:\n",
       "    Salinity              (time, altitude, latitude, longitude) float32 ...\n",
       "    Salinity_err          (time, altitude, latitude, longitude) float32 ...\n",
       "    Salinity_L1           (time, altitude, latitude, longitude) float32 ...\n",
       "    Salinity_L2           (time, altitude, latitude, longitude) float32 ...\n",
       "    Salinity_relerr       (time, altitude, latitude, longitude) float32 ...\n",
       "    Salinity_databins     (time, altitude, latitude, longitude) float32 ...\n",
       "    Salinity_outlbins     (time, altitude, latitude, longitude) float32 ...\n",
       "    Salinity_CLfield      (time, altitude, latitude, longitude) float32 ...\n",
       "    Temperature           (time, altitude, latitude, longitude) float32 ...\n",
       "    Temperature_err       (time, altitude, latitude, longitude) float32 ...\n",
       "    Temperature_L1        (time, altitude, latitude, longitude) float32 ...\n",
       "    Temperature_L2        (time, altitude, latitude, longitude) float32 ...\n",
       "    Temperature_relerr    (time, altitude, latitude, longitude) float32 ...\n",
       "    Temperature_databins  (time, altitude, latitude, longitude) float32 ...\n",
       "    Temperature_outlbins  (time, altitude, latitude, longitude) float32 ...\n",
       "    Temperature_CLfield   (time, altitude, latitude, longitude) float32 ...\n",
       "Attributes:\n",
       "    _CoordSysBuilder:              ucar.nc2.dataset.conv.CF1Convention\n",
       "    Author_e-mail:                 m.ouberdous@ulg.ac.be\n",
       "    cdm_data_type:                 Grid\n",
       "    comment:                       No comment\n",
       "    Conventions:                   CF-1.0\n",
       "    data_access:                   GHER OPENDAB: http://gher-diva.phys.ulg.ac...\n",
       "    date:                          2015-11-26 16:21:52.00\n",
       "    Easternmost_Easting:           36.5\n",
       "    file_name:                     ../output/3Danalysis/Salinity.19002013.4Da...\n",
       "    geospatial_lat_max:            46.0\n",
       "    geospatial_lat_min:            30.0\n",
       "    geospatial_lat_resolution:     0.125\n",
       "    geospatial_lat_units:          degrees_north\n",
       "    geospatial_lon_max:            36.5\n",
       "    geospatial_lon_min:            -9.25\n",
       "    geospatial_lon_resolution:     0.125\n",
       "    geospatial_lon_units:          degrees_east\n",
       "    geospatial_vertical_max:       0.0\n",
       "    geospatial_vertical_min:       -5500.0\n",
       "    geospatial_vertical_positive:  up\n",
       "    geospatial_vertical_units:     m\n",
       "    history:                       2020-02-04T12:53:32Z (local files)\\n2020-0...\n",
       "    infoUrl:                       https://www.seadatanet.org/\n",
       "    institution:                   SeaDataNet\n",
       "    license:                       The data may be used and redistributed for...\n",
       "    Northernmost_Northing:         46.0\n",
       "    product_id:                    062D7B38-17C4-4670-9295-B960C81DA5C5\n",
       "    production:                    Diva group. E-mails : a.barth@ulg.ac.be ; ...\n",
       "    project:                       SeaDataNetII: https://www.seadatanet.org/\n",
       "    source:                        Data mainly from HCMR cruises and observat...\n",
       "    sourceUrl:                     (local files)\n",
       "    Southernmost_Northing:         30.0\n",
       "    summary:                       SDN_TS_MedSea_Climatology\n",
       "    time_coverage_end:             1957-12-16T00:00:00Z\n",
       "    time_coverage_start:           1957-12-16T00:00:00Z\n",
       "    title:                         SDN_TS_MedSea_Climatology\n",
       "    WEB_visualisation:             http://gher-diva.phys.ulg.ac.be/web-vis/cl...\n",
       "    Westernmost_Easting:           -9.25</pre>"
      ],
      "text/plain": [
       "<xarray.Dataset>\n",
       "Dimensions:               (altitude: 33, latitude: 129, longitude: 367, time: 1)\n",
       "Coordinates:\n",
       "  * time                  (time) datetime64[ns] 1957-12-16\n",
       "  * altitude              (altitude) float32 -5500.0 -5000.0 ... -10.0 0.0\n",
       "  * latitude              (latitude) float32 30.0 30.125 30.25 ... 45.875 46.0\n",
       "  * longitude             (longitude) float32 -9.25 -9.125 -9.0 ... 36.375 36.5\n",
       "Data variables:\n",
       "    Salinity              (time, altitude, latitude, longitude) float32 ...\n",
       "    Salinity_err          (time, altitude, latitude, longitude) float32 ...\n",
       "    Salinity_L1           (time, altitude, latitude, longitude) float32 ...\n",
       "    Salinity_L2           (time, altitude, latitude, longitude) float32 ...\n",
       "    Salinity_relerr       (time, altitude, latitude, longitude) float32 ...\n",
       "    Salinity_databins     (time, altitude, latitude, longitude) float32 ...\n",
       "    Salinity_outlbins     (time, altitude, latitude, longitude) float32 ...\n",
       "    Salinity_CLfield      (time, altitude, latitude, longitude) float32 ...\n",
       "    Temperature           (time, altitude, latitude, longitude) float32 ...\n",
       "    Temperature_err       (time, altitude, latitude, longitude) float32 ...\n",
       "    Temperature_L1        (time, altitude, latitude, longitude) float32 ...\n",
       "    Temperature_L2        (time, altitude, latitude, longitude) float32 ...\n",
       "    Temperature_relerr    (time, altitude, latitude, longitude) float32 ...\n",
       "    Temperature_databins  (time, altitude, latitude, longitude) float32 ...\n",
       "    Temperature_outlbins  (time, altitude, latitude, longitude) float32 ...\n",
       "    Temperature_CLfield   (time, altitude, latitude, longitude) float32 ...\n",
       "Attributes:\n",
       "    _CoordSysBuilder:              ucar.nc2.dataset.conv.CF1Convention\n",
       "    Author_e-mail:                 m.ouberdous@ulg.ac.be\n",
       "    cdm_data_type:                 Grid\n",
       "    comment:                       No comment\n",
       "    Conventions:                   CF-1.0\n",
       "    data_access:                   GHER OPENDAB: http://gher-diva.phys.ulg.ac...\n",
       "    date:                          2015-11-26 16:21:52.00\n",
       "    Easternmost_Easting:           36.5\n",
       "    file_name:                     ../output/3Danalysis/Salinity.19002013.4Da...\n",
       "    geospatial_lat_max:            46.0\n",
       "    geospatial_lat_min:            30.0\n",
       "    geospatial_lat_resolution:     0.125\n",
       "    geospatial_lat_units:          degrees_north\n",
       "    geospatial_lon_max:            36.5\n",
       "    geospatial_lon_min:            -9.25\n",
       "    geospatial_lon_resolution:     0.125\n",
       "    geospatial_lon_units:          degrees_east\n",
       "    geospatial_vertical_max:       0.0\n",
       "    geospatial_vertical_min:       -5500.0\n",
       "    geospatial_vertical_positive:  up\n",
       "    geospatial_vertical_units:     m\n",
       "    history:                       2020-02-04T12:53:32Z (local files)\\n2020-0...\n",
       "    infoUrl:                       https://www.seadatanet.org/\n",
       "    institution:                   SeaDataNet\n",
       "    license:                       The data may be used and redistributed for...\n",
       "    Northernmost_Northing:         46.0\n",
       "    product_id:                    062D7B38-17C4-4670-9295-B960C81DA5C5\n",
       "    production:                    Diva group. E-mails : a.barth@ulg.ac.be ; ...\n",
       "    project:                       SeaDataNetII: https://www.seadatanet.org/\n",
       "    source:                        Data mainly from HCMR cruises and observat...\n",
       "    sourceUrl:                     (local files)\n",
       "    Southernmost_Northing:         30.0\n",
       "    summary:                       SDN_TS_MedSea_Climatology\n",
       "    time_coverage_end:             1957-12-16T00:00:00Z\n",
       "    time_coverage_start:           1957-12-16T00:00:00Z\n",
       "    title:                         SDN_TS_MedSea_Climatology\n",
       "    WEB_visualisation:             http://gher-diva.phys.ulg.ac.be/web-vis/cl...\n",
       "    Westernmost_Easting:           -9.25"
      ]
     },
     "execution_count": 34,
     "metadata": {},
     "output_type": "execute_result"
    }
   ],
   "source": [
    "ds = xarray.open_dataset('/Users/baart_f/data/odv/SDN_MedSea_Clim_e556_2f6c_888f.nc')\n",
    "ds"
   ]
  },
  {
   "cell_type": "code",
   "execution_count": 35,
   "metadata": {},
   "outputs": [
    {
     "data": {
      "text/plain": [
       "(18.453062057495117, 1000.0)"
      ]
     },
     "execution_count": 35,
     "metadata": {},
     "output_type": "execute_result"
    }
   ],
   "source": [
    "sel = ds['Salinity'].isel(time=0)\n",
    "V  = sel.to_masked_array().astype(np.float64).copy()\n",
    "V  = V.filled(1000)\n",
    "Vol  = V.copy()\n",
    "np.nanmin(V), np.nanmax(V)\n"
   ]
  },
  {
   "cell_type": "code",
   "execution_count": 4,
   "metadata": {},
   "outputs": [
    {
     "name": "stderr",
     "output_type": "stream",
     "text": [
      "/Users/baart_f/.virtualenvs/main/lib/python3.6/site-packages/ipyvolume/widgets.py:179: FutureWarning: Using a non-tuple sequence for multidimensional indexing is deprecated; use `arr[tuple(seq)]` instead of `arr[seq]`. In the future this will be interpreted as an array index, `arr[np.array(seq)]`, which will result either in an error or a different result.\n",
      "  data_view = self.data_original[view]\n",
      "/Users/baart_f/.virtualenvs/main/lib/python3.6/site-packages/ipyvolume/utils.py:204: FutureWarning: Using a non-tuple sequence for multidimensional indexing is deprecated; use `arr[tuple(seq)]` instead of `arr[seq]`. In the future this will be interpreted as an array index, `arr[np.array(seq)]`, which will result either in an error or a different result.\n",
      "  data = (data[slices1] + data[slices2])/2\n",
      "/Users/baart_f/.virtualenvs/main/lib/python3.6/site-packages/ipyvolume/serialize.py:81: RuntimeWarning: invalid value encountered in true_divide\n",
      "  gradient = gradient / np.sqrt(gradient[0]**2 + gradient[1]**2 + gradient[2]**2)\n"
     ]
    },
    {
     "data": {
      "application/vnd.jupyter.widget-view+json": {
       "model_id": "7de8fa700a8f46c39766b76a09a0b201",
       "version_major": 2,
       "version_minor": 0
      },
      "text/plain": [
       "VBox(children=(VBox(children=(HBox(children=(Label(value='levels:'), FloatSlider(value=0.1, max=1.0, step=0.00…"
      ]
     },
     "metadata": {},
     "output_type": "display_data"
    }
   ],
   "source": [
    "ipyvolume.quickvolshow(Vol, lighting=True, data_min=35, data_max=40, level=[0.1, 0.5, 0.9], level_width=0.05)\n",
    "# ipyvolume.pylab.plot_isosurface(V, level=(38))"
   ]
  },
  {
   "cell_type": "code",
   "execution_count": 11,
   "metadata": {},
   "outputs": [
    {
     "data": {
      "text/plain": [
       "<matplotlib.image.AxesImage at 0x121784470>"
      ]
     },
     "execution_count": 11,
     "metadata": {},
     "output_type": "execute_result"
    },
    {
     "data": {
      "image/png": "[encoded data removed]",
      "text/plain": [
       "<Figure size 432x288 with 1 Axes>"
      ]
     },
     "metadata": {},
     "output_type": "display_data"
    }
   ],
   "source": [
    "import  matplotlib.pyplot  as plt\n",
    "plt.imshow(V[15], origin='top', vmin=30,  vmax=40)"
   ]
  },
  {
   "cell_type": "code",
   "execution_count": 23,
   "metadata": {},
   "outputs": [
    {
     "data": {
      "text/plain": [
       "(4.311789035797119, 1000.0)"
      ]
     },
     "execution_count": 23,
     "metadata": {},
     "output_type": "execute_result"
    }
   ],
   "source": [
    "sel = ds['Temperature'].isel(time=0)\n",
    "V  = sel.to_masked_array().astype(np.float64).copy()\n",
    "V  = V.filled(1000)\n",
    "Temp  = V.copy()\n",
    "np.nanmin(V), np.nanmax(V)"
   ]
  },
  {
   "cell_type": "code",
   "execution_count": 24,
   "metadata": {
    "scrolled": false
   },
   "outputs": [
    {
     "name": "stderr",
     "output_type": "stream",
     "text": [
      "/Users/baart_f/.virtualenvs/main/lib/python3.6/site-packages/ipyvolume/widgets.py:179: FutureWarning: Using a non-tuple sequence for multidimensional indexing is deprecated; use `arr[tuple(seq)]` instead of `arr[seq]`. In the future this will be interpreted as an array index, `arr[np.array(seq)]`, which will result either in an error or a different result.\n",
      "  data_view = self.data_original[view]\n",
      "/Users/baart_f/.virtualenvs/main/lib/python3.6/site-packages/ipyvolume/utils.py:204: FutureWarning: Using a non-tuple sequence for multidimensional indexing is deprecated; use `arr[tuple(seq)]` instead of `arr[seq]`. In the future this will be interpreted as an array index, `arr[np.array(seq)]`, which will result either in an error or a different result.\n",
      "  data = (data[slices1] + data[slices2])/2\n"
     ]
    },
    {
     "data": {
      "application/vnd.jupyter.widget-view+json": {
       "model_id": "6e9f7de3279344f7b8006d5ccdbc6f6e",
       "version_major": 2,
       "version_minor": 0
      },
      "text/plain": [
       "VBox(children=(VBox(children=(HBox(children=(Label(value='levels:'), FloatSlider(value=0.1, max=1.0, step=0.00…"
      ]
     },
     "metadata": {},
     "output_type": "display_data"
    }
   ],
   "source": [
    "ipyvolume.quickvolshow(Temp, lighting=True, data_min=10, data_max=20, level=[0.1, 0.5, 0.9], level_width=0.05)\n"
   ]
  },
  {
   "cell_type": "code",
   "execution_count": 25,
   "metadata": {},
   "outputs": [],
   "source": [
    "import nrrd"
   ]
  },
  {
   "cell_type": "code",
   "execution_count": 27,
   "metadata": {},
   "outputs": [],
   "source": [
    "arr, meta  = nrrd.read('/Users/baart_f/src/three.js/examples/models/nrrd/stent.nrrd')"
   ]
  },
  {
   "cell_type": "code",
   "execution_count": 30,
   "metadata": {},
   "outputs": [
    {
     "data": {
      "text/plain": [
       "OrderedDict([('type', 'float'),\n",
       "             ('dimension', 3),\n",
       "             ('sizes', array([128, 128, 256])),\n",
       "             ('encoding', 'gzip'),\n",
       "             ('endian', 'little'),\n",
       "             ('space directions', array([[1., 0., 0.],\n",
       "                     [0., 1., 0.],\n",
       "                     [0., 0., 1.]])),\n",
       "             ('space origin', array([0., 0., 0.]))])"
      ]
     },
     "execution_count": 30,
     "metadata": {},
     "output_type": "execute_result"
    }
   ],
   "source": [
    "meta"
   ]
  },
  {
   "cell_type": "code",
   "execution_count": 41,
   "metadata": {},
   "outputs": [],
   "source": []
  },
  {
   "cell_type": "code",
   "execution_count": 120,
   "metadata": {},
   "outputs": [],
   "source": [
    "lat = np.linspace(ds.latitude.min(), ds.latitude.max(), num=256)\n",
    "lon = np.linspace(ds.longitude.min(), ds.longitude.max(), num=256)\n",
    "z = np.linspace(-1000, ds.altitude.max(), num=256)"
   ]
  },
  {
   "cell_type": "code",
   "execution_count": 121,
   "metadata": {},
   "outputs": [],
   "source": [
    "interpolated = ds.Temperature.interp(coords={\"latitude\": lat, \"longitude\": lon, \"altitude\": z}, method='linear')\n",
    "arr  = np.ma.masked_invalid(interpolated).astype('float32')\n",
    "\n",
    "arr_min,  arr_max = np.nanmin(arr), np.nanmax(arr)\n",
    "\n",
    "# scale  to [0, 1]\n",
    "arr -= arr_min\n",
    "arr /= (arr_max - arr_min)\n",
    "arr = arr.filled(0)\n",
    "arr = np.squeeze(arr)"
   ]
  },
  {
   "cell_type": "code",
   "execution_count": 125,
   "metadata": {},
   "outputs": [],
   "source": [
    "header = {\n",
    "    'type': 'float', \n",
    "    'dimensions': 3, \n",
    "    'sizes': arr.shape,\n",
    "    'encoding': 'gzip',\n",
    "    'endian': 'little',\n",
    "    'space directions': np.array([\n",
    "        [3., 0., 0.],\n",
    "        [0., 1., 0.],\n",
    "        [0., 0., 1.]\n",
    "    ]),\n",
    "    'space origin': np.array([1.5, 0., 0.])\n",
    "}\n",
    "nrrd.write('/Users/baart_f/src/three.js/examples/models/nrrd/med.nrrd', arr,  header=header)"
   ]
  },
  {
   "cell_type": "code",
   "execution_count": 101,
   "metadata": {},
   "outputs": [],
   "source": [
    "img = plt.imread('/Users/baart_f/src/three.js/examples/textures/cm_viridis.png')"
   ]
  },
  {
   "cell_type": "code",
   "execution_count": 112,
   "metadata": {},
   "outputs": [],
   "source": [
    "img_rgba = np.dstack([img, np.linspace(0, 1, num=img.shape[1])[np.newaxis, :, np.newaxis]])\n",
    "plt.imsave('/Users/baart_f/src/three.js/examples/textures/cm_viridis_alpha.png', img_rgba)"
   ]
  },
  {
   "cell_type": "code",
   "execution_count": 115,
   "metadata": {},
   "outputs": [
    {
     "data": {
      "text/plain": [
       "(33,)"
      ]
     },
     "execution_count": 115,
     "metadata": {},
     "output_type": "execute_result"
    }
   ],
   "source": []
  },
  {
   "cell_type": "code",
   "execution_count": null,
   "metadata": {},
   "outputs": [],
   "source": []
  }
 ],
 "metadata": {
  "kernelspec": {
   "display_name": "Python 3",
   "language": "python",
   "name": "python3"
  },
  "language_info": {
   "codemirror_mode": {
    "name": "ipython",
    "version": 3
   },
   "file_extension": ".py",
   "mimetype": "text/x-python",
   "name": "python",
   "nbconvert_exporter": "python",
   "pygments_lexer": "ipython3",
   "version": "3.6.10"
  }
 },
 "nbformat": 4,
 "nbformat_minor": 2
}
